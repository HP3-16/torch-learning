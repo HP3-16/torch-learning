{
 "cells": [
  {
   "cell_type": "code",
   "execution_count": 1,
   "metadata": {},
   "outputs": [],
   "source": [
    "import numpy as np\n",
    "import matplotlib.pyplot as plt\n",
    "\n",
    "import os\n",
    "import opendatasets as od\n",
    "\n",
    "import torch\n",
    "import torchvision\n",
    "import torch.nn as nn\n",
    "from torch.utils.data import DataLoader,Dataset\n",
    "import torchvision.transforms as transforms\n",
    "from CustomDataset import CustomImgDataset\n",
    "\n",
    "import matplotlib.pyplot as plt\n"
   ]
  },
  {
   "cell_type": "code",
   "execution_count": 2,
   "metadata": {},
   "outputs": [
    {
     "name": "stdout",
     "output_type": "stream",
     "text": [
      "cuda\n"
     ]
    }
   ],
   "source": [
    "device = \"cuda\" if torch.cuda.is_available() else \"cpu\"\n",
    "print(device)"
   ]
  },
  {
   "cell_type": "code",
   "execution_count": 3,
   "metadata": {},
   "outputs": [],
   "source": [
    "#od.download(\"https://www.kaggle.com/datasets/khoongweihao/covid19-xray-dataset-train-test-sets\")"
   ]
  },
  {
   "cell_type": "markdown",
   "metadata": {},
   "source": [
    "create ds and dl"
   ]
  },
  {
   "cell_type": "code",
   "execution_count": 4,
   "metadata": {},
   "outputs": [],
   "source": [
    "train_transforms = transforms.Compose([\n",
    "    transforms.Grayscale(num_output_channels=1),\n",
    "    transforms.Resize((128,128)),\n",
    "    transforms.ToTensor()\n",
    "])\n",
    "test_transforms = transforms.Compose([\n",
    "    transforms.Grayscale(num_output_channels=1),\n",
    "    transforms.Resize((128,128)),\n",
    "    transforms.ToTensor()\n",
    "])"
   ]
  },
  {
   "cell_type": "code",
   "execution_count": 5,
   "metadata": {},
   "outputs": [],
   "source": [
    "# preparing the folders "
   ]
  },
  {
   "cell_type": "code",
   "execution_count": 6,
   "metadata": {},
   "outputs": [],
   "source": [
    "root_path_train= 'D:/py-py-py-pytorch/Projects/COVID-XRAY/data/train'\n",
    "root_path_test= 'D:/py-py-py-pytorch/Projects/COVID-XRAY/data/test'"
   ]
  },
  {
   "cell_type": "code",
   "execution_count": 7,
   "metadata": {},
   "outputs": [],
   "source": [
    "train_dataset = CustomImgDataset(root=root_path_train,transforms=train_transforms)\n",
    "test_dataset = CustomImgDataset(root=root_path_test,transforms=test_transforms)\n"
   ]
  },
  {
   "cell_type": "code",
   "execution_count": 8,
   "metadata": {},
   "outputs": [
    {
     "name": "stdout",
     "output_type": "stream",
     "text": [
      "['NORMAL', 'PNEUMONIA']\n"
     ]
    }
   ],
   "source": [
    "print(train_dataset.CLASS_FOLDERS)"
   ]
  },
  {
   "cell_type": "markdown",
   "metadata": {},
   "source": [
    "visualize"
   ]
  },
  {
   "cell_type": "code",
   "execution_count": 9,
   "metadata": {},
   "outputs": [],
   "source": [
    "# it = iter(train_dataset)\n",
    "# sample_img_tensor = next(it)[0]\n",
    "# print(sample_img_tensor.shape)\n",
    "# plt.imshow(sample_img_tensor.squeeze())"
   ]
  },
  {
   "cell_type": "code",
   "execution_count": 10,
   "metadata": {},
   "outputs": [],
   "source": [
    "train_dataloader = DataLoader(train_dataset,batch_size=16,shuffle=True)"
   ]
  },
  {
   "cell_type": "code",
   "execution_count": 11,
   "metadata": {},
   "outputs": [
    {
     "data": {
      "text/plain": [
       "[tensor([[[[0.0627, 0.0667, 0.0706,  ..., 0.0784, 0.0784, 0.0784],\n",
       "           [0.0588, 0.0667, 0.0706,  ..., 0.0784, 0.0784, 0.0784],\n",
       "           [0.0588, 0.0667, 0.0706,  ..., 0.0784, 0.0784, 0.0784],\n",
       "           ...,\n",
       "           [0.1294, 0.1059, 0.0941,  ..., 0.0706, 0.0745, 0.0745],\n",
       "           [0.1333, 0.1098, 0.1020,  ..., 0.0784, 0.0824, 0.0824],\n",
       "           [0.1373, 0.1137, 0.1059,  ..., 0.1020, 0.1059, 0.1098]]],\n",
       " \n",
       " \n",
       "         [[[0.0039, 0.0000, 0.0000,  ..., 0.0000, 0.0000, 0.0000],\n",
       "           [0.0000, 0.0000, 0.0000,  ..., 0.0000, 0.0000, 0.0000],\n",
       "           [0.0000, 0.0000, 0.0000,  ..., 0.0000, 0.0000, 0.0000],\n",
       "           ...,\n",
       "           [0.0000, 0.0000, 0.0275,  ..., 0.0000, 0.0000, 0.0000],\n",
       "           [0.0000, 0.0000, 0.0235,  ..., 0.0000, 0.0000, 0.0000],\n",
       "           [0.0000, 0.0000, 0.0235,  ..., 0.0000, 0.0000, 0.0000]]],\n",
       " \n",
       " \n",
       "         [[[0.0078, 0.0039, 0.0039,  ..., 0.1686, 0.1412, 0.1137],\n",
       "           [0.0078, 0.0000, 0.0000,  ..., 0.1647, 0.1412, 0.1098],\n",
       "           [0.0078, 0.0039, 0.0000,  ..., 0.1608, 0.1373, 0.0980],\n",
       "           ...,\n",
       "           [0.1529, 0.1922, 0.2510,  ..., 0.0000, 0.0000, 0.0000],\n",
       "           [0.1608, 0.2078, 0.2667,  ..., 0.0000, 0.0000, 0.0000],\n",
       "           [0.1686, 0.2157, 0.2745,  ..., 0.0000, 0.0000, 0.0000]]],\n",
       " \n",
       " \n",
       "         ...,\n",
       " \n",
       " \n",
       "         [[[0.0667, 0.0745, 0.0745,  ..., 0.0667, 0.0706, 0.0706],\n",
       "           [0.0667, 0.0745, 0.0745,  ..., 0.0667, 0.0667, 0.0706],\n",
       "           [0.0667, 0.0745, 0.0745,  ..., 0.0588, 0.0627, 0.0667],\n",
       "           ...,\n",
       "           [0.0667, 0.0667, 0.0667,  ..., 0.0902, 0.0941, 0.0902],\n",
       "           [0.0706, 0.0706, 0.0706,  ..., 0.0902, 0.0902, 0.0902],\n",
       "           [0.0706, 0.0745, 0.0745,  ..., 0.0902, 0.0902, 0.0902]]],\n",
       " \n",
       " \n",
       "         [[[0.1922, 0.2392, 0.2784,  ..., 0.0196, 0.0275, 0.0353],\n",
       "           [0.1804, 0.2353, 0.2706,  ..., 0.0235, 0.0314, 0.0353],\n",
       "           [0.1686, 0.2235, 0.2706,  ..., 0.0275, 0.0353, 0.0392],\n",
       "           ...,\n",
       "           [0.0627, 0.0706, 0.0745,  ..., 0.0078, 0.0157, 0.0196],\n",
       "           [0.0667, 0.0667, 0.0745,  ..., 0.0039, 0.0157, 0.0196],\n",
       "           [0.0667, 0.0706, 0.0745,  ..., 0.0039, 0.0157, 0.0157]]],\n",
       " \n",
       " \n",
       "         [[[0.3451, 0.3412, 0.3255,  ..., 0.8314, 0.9490, 0.9686],\n",
       "           [0.3451, 0.3451, 0.3333,  ..., 0.8353, 0.9490, 0.9686],\n",
       "           [0.3686, 0.3843, 0.3843,  ..., 0.8392, 0.9490, 0.9686],\n",
       "           ...,\n",
       "           [0.7412, 0.7412, 0.7529,  ..., 0.9725, 0.9725, 0.7961],\n",
       "           [0.7490, 0.7490, 0.7529,  ..., 0.9725, 0.9725, 0.7725],\n",
       "           [0.7569, 0.7569, 0.7608,  ..., 0.9725, 0.9725, 0.7608]]]]),\n",
       " tensor([0, 0, 0, 1, 0, 1, 1, 0, 0, 0, 0, 1, 1, 0, 0, 1])]"
      ]
     },
     "execution_count": 11,
     "metadata": {},
     "output_type": "execute_result"
    }
   ],
   "source": [
    "loader_it = iter(train_dataloader)\n",
    "sample_batch = next(loader_it)\n",
    "sample_batch"
   ]
  },
  {
   "cell_type": "code",
   "execution_count": 12,
   "metadata": {},
   "outputs": [],
   "source": [
    "sample_features,sample_label = sample_batch"
   ]
  },
  {
   "cell_type": "code",
   "execution_count": 13,
   "metadata": {},
   "outputs": [],
   "source": [
    "class NeuralNetwork(nn.Module):\n",
    "    def __init__(self):\n",
    "        super().__init__()\n",
    "        \n",
    "        self.network = nn.Sequential(\n",
    "            nn.Conv2d(1,32,kernel_size=3,stride=1,padding=1),\n",
    "            nn.ReLU(),\n",
    "            nn.MaxPool2d(2,2),\n",
    "\n",
    "            nn.Conv2d(32,64,kernel_size=3,stride=1,padding=1),\n",
    "            nn.ReLU(),\n",
    "            nn.MaxPool2d(2,2),\n",
    "\n",
    "            nn.Conv2d(64,32,kernel_size=3,stride=1,padding=1),\n",
    "            nn.ReLU(),\n",
    "            nn.MaxPool2d(2,2),\n",
    "\n",
    "            nn.Conv2d(32,16,kernel_size=3,stride=1,padding=1),\n",
    "            nn.ReLU(),\n",
    "            \n",
    "            nn.Flatten(),\n",
    "            \n",
    "            nn.Linear(4096,128),\n",
    "            nn.ReLU(),\n",
    "\n",
    "            nn.Linear(128,2)\n",
    "        )\n",
    "    \n",
    "    def forward(self,inputs):\n",
    "        out = self.network(inputs)\n",
    "        return torch.softmax(out,dim=-1)\n",
    "        \n"
   ]
  },
  {
   "cell_type": "code",
   "execution_count": 14,
   "metadata": {},
   "outputs": [],
   "source": [
    "covid_model = NeuralNetwork().to(device)\n",
    "loss_function = nn.CrossEntropyLoss()\n",
    "optimizier = torch.optim.Adam(covid_model.parameters(),lr=3e-4)"
   ]
  },
  {
   "cell_type": "markdown",
   "metadata": {},
   "source": [
    "Training the model"
   ]
  },
  {
   "cell_type": "code",
   "execution_count": 15,
   "metadata": {},
   "outputs": [],
   "source": [
    "num_epochs = 100\n",
    "losses = []\n",
    "def fit_model(num_epochs):\n",
    "    for epoch in range(num_epochs):\n",
    "        print(\"Epoch {}\".format({epoch+1}))\n",
    "        curr_loss = []\n",
    "        for idx,batch in enumerate(iter(train_dataloader)):\n",
    "            x,y = batch\n",
    "\n",
    "            covid_model.train()\n",
    "            pred = covid_model(x.to(device))\n",
    "            loss = loss_function(pred.to(device),y.to(device))\n",
    "            \n",
    "            loss.backward()\n",
    "\n",
    "            optimizier.step()\n",
    "            optimizier.zero_grad()\n",
    "\n",
    "            curr_loss.append(loss)\n",
    "        \n",
    "        mean_epoch_loss = torch.tensor(curr_loss).mean()\n",
    "        losses.append(mean_epoch_loss)\n",
    "        print(\"Loss = {}\".format(mean_epoch_loss))\n"
   ]
  },
  {
   "cell_type": "code",
   "execution_count": 16,
   "metadata": {},
   "outputs": [
    {
     "name": "stdout",
     "output_type": "stream",
     "text": [
      "Epoch {1}\n",
      "Loss = 0.6608047485351562\n"
     ]
    }
   ],
   "source": [
    "fit_model(1)"
   ]
  },
  {
   "cell_type": "code",
   "execution_count": 17,
   "metadata": {},
   "outputs": [],
   "source": [
    "# epoch = np.arange(num_epochs)+1\n",
    "# plt.figure(figsize=(5,5))\n",
    "# plt.subplot(121)\n",
    "# plt.title(\"Loss vs Epochs\")\n",
    "# plt.plot(epoch,losses,label=\"Training Loss\")\n",
    "# plt.tight_layout()\n",
    "# plt.legend()\n",
    "# plt.show()"
   ]
  },
  {
   "cell_type": "code",
   "execution_count": 18,
   "metadata": {},
   "outputs": [],
   "source": [
    "# it = iter(test_dataset)\n",
    "# plt.imshow(next(it)[0].squeeze())"
   ]
  },
  {
   "cell_type": "code",
   "execution_count": 19,
   "metadata": {},
   "outputs": [],
   "source": [
    "test_dataloader = DataLoader(test_dataset,batch_size=16,shuffle=True)"
   ]
  },
  {
   "cell_type": "code",
   "execution_count": 20,
   "metadata": {},
   "outputs": [
    {
     "name": "stdout",
     "output_type": "stream",
     "text": [
      "torch.Size([16, 2]) torch.Size([16])\n",
      "torch.Size([16, 2]) torch.Size([16])\n",
      "torch.Size([3, 2]) torch.Size([3])\n",
      "6.666666666666667\n"
     ]
    }
   ],
   "source": [
    "with torch.no_grad():\n",
    "    correct = 0\n",
    "    for img,labels in test_dataloader:\n",
    "        pred = covid_model(img.to(device))\n",
    "        print(pred.shape, labels.shape)\n",
    "        for i in range(len(pred)):\n",
    "            if(pred[i].max() == pred[i][labels[i].item()]):\n",
    "                correct += 1\n",
    "\n",
    "    acc = correct/len(test_dataloader)\n",
    "\n",
    "    print(acc)"
   ]
  },
  {
   "cell_type": "code",
   "execution_count": null,
   "metadata": {},
   "outputs": [],
   "source": []
  }
 ],
 "metadata": {
  "kernelspec": {
   "display_name": "Python 3",
   "language": "python",
   "name": "python3"
  },
  "language_info": {
   "codemirror_mode": {
    "name": "ipython",
    "version": 3
   },
   "file_extension": ".py",
   "mimetype": "text/x-python",
   "name": "python",
   "nbconvert_exporter": "python",
   "pygments_lexer": "ipython3",
   "version": "3.10.13"
  }
 },
 "nbformat": 4,
 "nbformat_minor": 2
}
