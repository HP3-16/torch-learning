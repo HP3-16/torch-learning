{
 "cells": [
  {
   "cell_type": "code",
   "execution_count": 4,
   "metadata": {},
   "outputs": [],
   "source": [
    "import os\n",
    "import glob\n",
    "\n",
    "import torch\n",
    "import torchvision\n",
    "\n",
    "from PIL import Image\n",
    "from torch.utils.data import Dataset"
   ]
  },
  {
   "cell_type": "code",
   "execution_count": 6,
   "metadata": {},
   "outputs": [],
   "source": [
    "class CustomImgDataset(Dataset):\n",
    "    def __init__(self,root,transforms):\n",
    "        self.root = root\n",
    "        self.transforms = transforms\n",
    "\n",
    "        self.CLASS_FOLDERS = [f for f in os.listdir(root)]\n",
    "        self.IMG_PATHS = []\n",
    "        self.IMG_LABELS = []\n",
    "\n",
    "        for label, folder in enumerate(self.CLASS_FOLDERS):\n",
    "            curr_img_path =  glob.glob(os.path.join(root,folder,'*jpeg'))\n",
    "            self.IMG_PATHS.extend(curr_img_path)\n",
    "            self.IMG_LABELS.extend([label]*len(curr_img_path))\n",
    "        \n",
    "    def __getitem__(self, index):\n",
    "        img_path = self.IMG_PATHS[index]\n",
    "        label = self.IMG_LABELS[index]\n",
    "        image = Image.open(img_path)\n",
    "\n",
    "        if self.transforms:\n",
    "            image = self.transforms(image)\n",
    "\n",
    "        return image, label\n",
    "    \n",
    "    def __len__(self):\n",
    "        return len(self.IMG_PATHS)\n"
   ]
  },
  {
   "cell_type": "code",
   "execution_count": null,
   "metadata": {},
   "outputs": [],
   "source": []
  }
 ],
 "metadata": {
  "kernelspec": {
   "display_name": "Python 3",
   "language": "python",
   "name": "python3"
  },
  "language_info": {
   "codemirror_mode": {
    "name": "ipython",
    "version": 3
   },
   "file_extension": ".py",
   "mimetype": "text/x-python",
   "name": "python",
   "nbconvert_exporter": "python",
   "pygments_lexer": "ipython3",
   "version": "3.10.0"
  }
 },
 "nbformat": 4,
 "nbformat_minor": 2
}
