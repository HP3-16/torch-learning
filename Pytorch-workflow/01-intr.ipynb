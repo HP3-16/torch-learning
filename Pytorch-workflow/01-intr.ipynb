{
 "cells": [
  {
   "cell_type": "code",
   "execution_count": 2,
   "metadata": {},
   "outputs": [],
   "source": [
    "#Workflow\n",
    "import torch\n",
    "from torch import nn #basic building block of neural network (graphs)\n",
    "import matplotlib.pyplot as plt"
   ]
  },
  {
   "cell_type": "code",
   "execution_count": 4,
   "metadata": {},
   "outputs": [
    {
     "name": "stdout",
     "output_type": "stream",
     "text": [
      "2.0.1+cu117\n"
     ]
    }
   ],
   "source": [
    "print(torch.__version__)"
   ]
  },
  {
   "cell_type": "code",
   "execution_count": 6,
   "metadata": {},
   "outputs": [],
   "source": [
    "w = 0.7\n",
    "b = 0.5\n",
    "\n",
    "X = torch.arange(0,1,0.04).unsqueeze(dim=1)\n",
    "y = w*X+b"
   ]
  },
  {
   "cell_type": "code",
   "execution_count": 15,
   "metadata": {},
   "outputs": [
    {
     "name": "stdout",
     "output_type": "stream",
     "text": [
      "tensor([[0.0000],\n",
      "        [0.0400],\n",
      "        [0.0800],\n",
      "        [0.1200],\n",
      "        [0.1600],\n",
      "        [0.2000],\n",
      "        [0.2400],\n",
      "        [0.2800],\n",
      "        [0.3200],\n",
      "        [0.3600]]) tensor([[0.5000],\n",
      "        [0.5280],\n",
      "        [0.5560],\n",
      "        [0.5840],\n",
      "        [0.6120],\n",
      "        [0.6400],\n",
      "        [0.6680],\n",
      "        [0.6960],\n",
      "        [0.7240],\n",
      "        [0.7520]])\n"
     ]
    }
   ],
   "source": [
    "print(X[:10],y[0:10])"
   ]
  },
  {
   "cell_type": "code",
   "execution_count": 19,
   "metadata": {},
   "outputs": [
    {
     "name": "stdout",
     "output_type": "stream",
     "text": [
      "18 7\n"
     ]
    }
   ],
   "source": [
    "train_len = int(0.75*len(X))\n",
    "X_train,y_train = X[:train_len],y[:train_len]\n",
    "X_test,y_test = X[train_len:],y[train_len:]\n",
    "\n",
    "print(len(X_train),len(X_test))"
   ]
  },
  {
   "cell_type": "code",
   "execution_count": null,
   "metadata": {},
   "outputs": [],
   "source": []
  },
  {
   "cell_type": "code",
   "execution_count": null,
   "metadata": {},
   "outputs": [],
   "source": []
  }
 ],
 "metadata": {
  "kernelspec": {
   "display_name": "Python 3",
   "language": "python",
   "name": "python3"
  },
  "language_info": {
   "codemirror_mode": {
    "name": "ipython",
    "version": 3
   },
   "file_extension": ".py",
   "mimetype": "text/x-python",
   "name": "python",
   "nbconvert_exporter": "python",
   "pygments_lexer": "ipython3",
   "version": "3.10.0"
  },
  "orig_nbformat": 4
 },
 "nbformat": 4,
 "nbformat_minor": 2
}
