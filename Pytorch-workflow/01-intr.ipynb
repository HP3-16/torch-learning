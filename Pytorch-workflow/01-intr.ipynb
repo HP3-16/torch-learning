{
 "cells": [
  {
   "cell_type": "code",
   "execution_count": 1,
   "metadata": {},
   "outputs": [],
   "source": [
    "#Workflow\n",
    "import torch\n",
    "from torch import nn #basic building block of neural network (graphs)\n",
    "import matplotlib.pyplot as plt"
   ]
  },
  {
   "cell_type": "code",
   "execution_count": 2,
   "metadata": {},
   "outputs": [
    {
     "name": "stdout",
     "output_type": "stream",
     "text": [
      "2.0.1+cu117\n"
     ]
    }
   ],
   "source": [
    "print(torch.__version__)"
   ]
  },
  {
   "cell_type": "code",
   "execution_count": 6,
   "metadata": {},
   "outputs": [
    {
     "name": "stdout",
     "output_type": "stream",
     "text": [
      "True\n",
      "11.7\n"
     ]
    }
   ],
   "source": [
    "print(torch.cuda.is_available())\n",
    "print(torch.version.cuda)"
   ]
  },
  {
   "cell_type": "code",
   "execution_count": 8,
   "metadata": {},
   "outputs": [
    {
     "data": {
      "text/plain": [
       "tensor([1, 2, 3], device='cuda:0')"
      ]
     },
     "execution_count": 8,
     "metadata": {},
     "output_type": "execute_result"
    }
   ],
   "source": [
    "a = torch.tensor([1,2,3])\n",
    "a = a.cuda()\n",
    "a"
   ]
  },
  {
   "cell_type": "markdown",
   "metadata": {},
   "source": [
    "### Ranks, Axes and Shapes"
   ]
  },
  {
   "cell_type": "code",
   "execution_count": 9,
   "metadata": {},
   "outputs": [
    {
     "data": {
      "text/plain": [
       "tensor([[1., 1., 1.],\n",
       "        [2., 2., 2.],\n",
       "        [3., 3., 3.],\n",
       "        [4., 4., 4.]])"
      ]
     },
     "execution_count": 9,
     "metadata": {},
     "output_type": "execute_result"
    }
   ],
   "source": [
    "t = torch.tensor([\n",
    "  [1,1,1],\n",
    "  [2,2,2],\n",
    "  [3,3,3],\n",
    "  [4,4,4]\n",
    " ],dtype=torch.float32) \n",
    "\n",
    "t"
   ]
  },
  {
   "cell_type": "code",
   "execution_count": 12,
   "metadata": {},
   "outputs": [
    {
     "name": "stdout",
     "output_type": "stream",
     "text": [
      "torch.Size([4, 3])\n"
     ]
    }
   ],
   "source": [
    "print(t.shape)"
   ]
  },
  {
   "cell_type": "code",
   "execution_count": 14,
   "metadata": {},
   "outputs": [
    {
     "name": "stdout",
     "output_type": "stream",
     "text": [
      "tensor([1., 1., 1.])\n",
      "tensor([2., 2., 2.])\n",
      "tensor([3., 3., 3.])\n",
      "tensor([4., 4., 4.])\n"
     ]
    }
   ],
   "source": [
    "# Each element in axis 1 is an array\n",
    "# note: can't exceed 3 because the len of axis 1 is 4\n",
    "print(t[0])\n",
    "print(t[1])\n",
    "print(t[2])\n",
    "print(t[3])"
   ]
  },
  {
   "cell_type": "code",
   "execution_count": 16,
   "metadata": {},
   "outputs": [
    {
     "name": "stdout",
     "output_type": "stream",
     "text": [
      "tensor(1.)\n",
      "tensor(1.)\n",
      "tensor(1.)\n",
      "tensor(2.)\n",
      "tensor(2.)\n",
      "tensor(2.)\n",
      "tensor(3.)\n",
      "tensor(3.)\n",
      "tensor(3.)\n",
      "tensor(4.)\n",
      "tensor(4.)\n",
      "tensor(4.)\n"
     ]
    }
   ],
   "source": [
    "#Each element in axis 2 is an element\n",
    "# note: can't exceed 2 because the len of axis 2 is 3\n",
    "print(t[0][0])\n",
    "print(t[0][1])\n",
    "print(t[0][2])\n",
    "\n",
    "print(t[1][0])\n",
    "print(t[1][1])\n",
    "print(t[1][2])\n",
    "\n",
    "print(t[2][0])\n",
    "print(t[2][1])\n",
    "print(t[2][2])\n",
    "\n",
    "print(t[3][0])\n",
    "print(t[3][1])\n",
    "print(t[3][2])"
   ]
  },
  {
   "cell_type": "code",
   "execution_count": 17,
   "metadata": {},
   "outputs": [
    {
     "name": "stdout",
     "output_type": "stream",
     "text": [
      "Rank of the tensor = 2\n"
     ]
    }
   ],
   "source": [
    "print(\"Rank of the tensor = {}\".format(len(t.shape)))"
   ]
  },
  {
   "cell_type": "code",
   "execution_count": 21,
   "metadata": {},
   "outputs": [
    {
     "name": "stdout",
     "output_type": "stream",
     "text": [
      "tensor([[1., 1., 1., 2., 2., 2., 3., 3., 3., 4., 4., 4.]])\n",
      "torch.Size([1, 12])\n"
     ]
    }
   ],
   "source": [
    "print(t.reshape(1,12))\n",
    "print(t.reshape(1,12).shape)"
   ]
  },
  {
   "cell_type": "code",
   "execution_count": null,
   "metadata": {},
   "outputs": [],
   "source": []
  }
 ],
 "metadata": {
  "kernelspec": {
   "display_name": "Python 3",
   "language": "python",
   "name": "python3"
  },
  "language_info": {
   "codemirror_mode": {
    "name": "ipython",
    "version": 3
   },
   "file_extension": ".py",
   "mimetype": "text/x-python",
   "name": "python",
   "nbconvert_exporter": "python",
   "pygments_lexer": "ipython3",
   "version": "3.10.0"
  },
  "orig_nbformat": 4
 },
 "nbformat": 4,
 "nbformat_minor": 2
}
