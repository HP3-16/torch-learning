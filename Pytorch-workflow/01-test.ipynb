{
 "cells": [
  {
   "cell_type": "code",
   "execution_count": 4,
   "metadata": {},
   "outputs": [],
   "source": [
    "import torch\n",
    "import torch.nn as nn\n",
    "import torch.nn.functional as F\n",
    "from torch.optim import SGD\n",
    "\n",
    "import matplotlib.pyplot as plt\n",
    "import seaborn as sns"
   ]
  },
  {
   "cell_type": "code",
   "execution_count": 11,
   "metadata": {},
   "outputs": [],
   "source": [
    "class BasicNN(nn.Module):\n",
    "    def __init__(self):\n",
    "        super().__init__()\n",
    "\n",
    "        self.w00 = nn.Parameter(torch.tensor(1.7),requires_grad=False)\n",
    "        self.b00 = nn.Parameter(torch.tensor(-0.85),requires_grad=False)\n",
    "        self.w01 = nn.Parameter(torch.tensor(-40.8),requires_grad=False)\n",
    "\n",
    "        self.w10 = nn.Parameter(torch.tensor(12.6),requires_grad=False)\n",
    "        self.b10 = nn.Parameter(torch.tensor(0.0),requires_grad=False)\n",
    "        self.w11 = nn.Parameter(torch.tensor(2.7),requires_grad=False)\n",
    "\n",
    "        self.bfinal = nn.Parameter(torch.tensor(-16),requires_grad=False)\n",
    "    \n",
    "    def forward(self,input):\n",
    "        input_to_relu1 = input*self.w00 + self.b00\n",
    "        relu1_out = F.relu(input_to_relu1)\n",
    "        scaled_relu1_out = relu1_out*self.w01\n",
    "\n",
    "        input_to_relu2 = input*self.w10 + self.b10\n",
    "        relu2_out = F.relu(input_to_relu2)\n",
    "        scaled_relu2_out = relu2_out*self.w11\n",
    "\n",
    "        input_to_final_relu = scaled_relu1_out + scaled_relu2_out + self.bfinal\n",
    "\n",
    "        output = F.relu(input_to_final_relu)\n",
    "        return output"
   ]
  },
  {
   "cell_type": "code",
   "execution_count": 12,
   "metadata": {},
   "outputs": [],
   "source": [
    "input_ = torch.linspace(0,1,11)"
   ]
  },
  {
   "cell_type": "code",
   "execution_count": 13,
   "metadata": {},
   "outputs": [],
   "source": [
    "model = BasicNN()\n",
    "output_val = model(input_)\n"
   ]
  },
  {
   "cell_type": "code",
   "execution_count": 15,
   "metadata": {},
   "outputs": [
    {
     "data": {
      "text/plain": [
       "tensor([0.0000, 0.0000, 0.0000, 0.0000, 0.0000, 1.0100, 0.0000, 0.0000, 0.0000,\n",
       "        0.0000, 0.0000])"
      ]
     },
     "execution_count": 15,
     "metadata": {},
     "output_type": "execute_result"
    }
   ],
   "source": [
    "output_val"
   ]
  },
  {
   "cell_type": "code",
   "execution_count": 16,
   "metadata": {},
   "outputs": [
    {
     "data": {
      "text/plain": [
       "<Axes: >"
      ]
     },
     "execution_count": 16,
     "metadata": {},
     "output_type": "execute_result"
    },
    {
     "data": {
      "image/png": "[encoded data removed]",
      "text/plain": [
       "<Figure size 640x480 with 1 Axes>"
      ]
     },
     "metadata": {},
     "output_type": "display_data"
    }
   ],
   "source": [
    "sns.set(style=\"whitegrid\")\n",
    "sns.lineplot(x=input_,y=output_val,\n",
    "            linewidth=2)\n"
   ]
  },
  {
   "cell_type": "code",
   "execution_count": null,
   "metadata": {},
   "outputs": [],
   "source": []
  }
 ],
 "metadata": {
  "kernelspec": {
   "display_name": "Python 3",
   "language": "python",
   "name": "python3"
  },
  "language_info": {
   "codemirror_mode": {
    "name": "ipython",
    "version": 3
   },
   "file_extension": ".py",
   "mimetype": "text/x-python",
   "name": "python",
   "nbconvert_exporter": "python",
   "pygments_lexer": "ipython3",
   "version": "3.10.0"
  },
  "orig_nbformat": 4
 },
 "nbformat": 4,
 "nbformat_minor": 2
}
