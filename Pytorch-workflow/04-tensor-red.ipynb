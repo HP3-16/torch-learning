{
 "cells": [
  {
   "cell_type": "markdown",
   "metadata": {},
   "source": [
    "## Reduction"
   ]
  },
  {
   "cell_type": "markdown",
   "metadata": {},
   "source": [
    "Helps to do operations within a tensor"
   ]
  },
  {
   "cell_type": "code",
   "execution_count": 1,
   "metadata": {},
   "outputs": [],
   "source": [
    "import torch\n",
    "import numpy as np"
   ]
  },
  {
   "cell_type": "code",
   "execution_count": 2,
   "metadata": {},
   "outputs": [],
   "source": [
    "t = torch.tensor([\n",
    "    [2,0,3],\n",
    "    [0,7,9],\n",
    "    [1,4,6]\n",
    "],dtype=torch.float32)"
   ]
  },
  {
   "cell_type": "code",
   "execution_count": 4,
   "metadata": {},
   "outputs": [
    {
     "name": "stdout",
     "output_type": "stream",
     "text": [
      "tensor(32.)\n",
      "9\n",
      "tensor(3.5556)\n",
      "tensor(3.2059)\n",
      "tensor(0.)\n"
     ]
    }
   ],
   "source": [
    "print(t.sum())\n",
    "print(t.numel())\n",
    "print(t.mean())\n",
    "print(t.std())\n",
    "print(t.prod())"
   ]
  },
  {
   "cell_type": "markdown",
   "metadata": {},
   "source": [
    "Does reduction always reduce to a single element? No\n"
   ]
  },
  {
   "cell_type": "code",
   "execution_count": 9,
   "metadata": {},
   "outputs": [
    {
     "name": "stdout",
     "output_type": "stream",
     "text": [
      "tensor([[2., 0., 3.],\n",
      "        [0., 7., 9.],\n",
      "        [1., 4., 6.]]) \n",
      "\n",
      "tensor([ 3., 11., 18.]) tensor([ 5., 16., 11.])\n",
      "Basically, the dim 0 is the first axis that are arrays so\n",
      "tensor([2., 0., 3.]) \n",
      " tensor([0., 7., 9.]) \n",
      " tensor([1., 4., 6.]) \n",
      "\n",
      "We add these element-wise to obtain the sum of dim 0.\n"
     ]
    }
   ],
   "source": [
    "print(t,\"\\n\")\n",
    "print(t.sum(dim=0),\n",
    "t.sum(dim=1))\n",
    "\n",
    "print(\"Basically, the dim 0 is the first axis that are arrays so\")\n",
    "print(t[0],\"\\n\",t[1],\"\\n\",t[2],\"\\n\")\n",
    "print(\"We add these element-wise to obtain the sum of dim 0.\")"
   ]
  },
  {
   "cell_type": "markdown",
   "metadata": {},
   "source": [
    "### argmax"
   ]
  },
  {
   "cell_type": "code",
   "execution_count": 11,
   "metadata": {},
   "outputs": [],
   "source": [
    "t1 = torch.tensor([\n",
    "    [1,0,3],\n",
    "    [9,7,1],\n",
    "    [0,0,5],\n",
    "],dtype=torch.float32)"
   ]
  },
  {
   "cell_type": "code",
   "execution_count": 12,
   "metadata": {},
   "outputs": [
    {
     "data": {
      "text/plain": [
       "tensor(9.)"
      ]
     },
     "execution_count": 12,
     "metadata": {},
     "output_type": "execute_result"
    }
   ],
   "source": [
    "t1.max()"
   ]
  },
  {
   "cell_type": "code",
   "execution_count": 23,
   "metadata": {},
   "outputs": [
    {
     "name": "stdout",
     "output_type": "stream",
     "text": [
      "tensor(3)\n",
      "tensor([1, 1, 2])\n",
      "tensor([2, 0, 2])\n"
     ]
    }
   ],
   "source": [
    "print(t1.argmax())\n",
    "print(t1.argmax(dim=0))\n",
    "print(t1.argmax(dim=1))"
   ]
  },
  {
   "cell_type": "code",
   "execution_count": 37,
   "metadata": {},
   "outputs": [
    {
     "data": {
      "text/plain": [
       "tensor([1])"
      ]
     },
     "execution_count": 37,
     "metadata": {},
     "output_type": "execute_result"
    }
   ],
   "source": [
    "pred = torch.tensor([[0.08],[0.78],[0.21],[0.19],[0.56],[0.71]])\n",
    "\n",
    "pred.argmax(dim=1)"
   ]
  },
  {
   "cell_type": "code",
   "execution_count": null,
   "metadata": {},
   "outputs": [],
   "source": []
  }
 ],
 "metadata": {
  "kernelspec": {
   "display_name": "Python 3",
   "language": "python",
   "name": "python3"
  },
  "language_info": {
   "codemirror_mode": {
    "name": "ipython",
    "version": 3
   },
   "file_extension": ".py",
   "mimetype": "text/x-python",
   "name": "python",
   "nbconvert_exporter": "python",
   "pygments_lexer": "ipython3",
   "version": "3.10.0"
  },
  "orig_nbformat": 4
 },
 "nbformat": 4,
 "nbformat_minor": 2
}
