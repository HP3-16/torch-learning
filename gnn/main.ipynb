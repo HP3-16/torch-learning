{
 "cells": [
  {
   "cell_type": "code",
   "execution_count": 17,
   "metadata": {},
   "outputs": [],
   "source": [
    "import torch\n",
    "import torch.nn as nn\n",
    "import torch.nn.functional as F\n",
    "import torchvision\n",
    "import torchvision.transforms as transforms\n",
    "from torch.utils.data import DataLoader\n",
    "from torch.optim import Adam"
   ]
  },
  {
   "cell_type": "code",
   "execution_count": 33,
   "metadata": {},
   "outputs": [
    {
     "name": "stdout",
     "output_type": "stream",
     "text": [
      "cuda\n"
     ]
    }
   ],
   "source": [
    "device = torch.device(\"cuda\" if torch.cuda.is_available() else \"cpu\")\n",
    "print(device)"
   ]
  },
  {
   "cell_type": "code",
   "execution_count": 4,
   "metadata": {},
   "outputs": [
    {
     "name": "stdout",
     "output_type": "stream",
     "text": [
      "Downloading http://yann.lecun.com/exdb/mnist/train-images-idx3-ubyte.gz\n",
      "Downloading http://yann.lecun.com/exdb/mnist/train-images-idx3-ubyte.gz to G:/py-py-py-pytorch/gnn/data\\MNIST\\raw\\train-images-idx3-ubyte.gz\n"
     ]
    },
    {
     "name": "stderr",
     "output_type": "stream",
     "text": [
      "100%|██████████| 9912422/9912422 [00:03<00:00, 3202014.94it/s]\n"
     ]
    },
    {
     "name": "stdout",
     "output_type": "stream",
     "text": [
      "Extracting G:/py-py-py-pytorch/gnn/data\\MNIST\\raw\\train-images-idx3-ubyte.gz to G:/py-py-py-pytorch/gnn/data\\MNIST\\raw\n",
      "\n",
      "Downloading http://yann.lecun.com/exdb/mnist/train-labels-idx1-ubyte.gz\n",
      "Downloading http://yann.lecun.com/exdb/mnist/train-labels-idx1-ubyte.gz to G:/py-py-py-pytorch/gnn/data\\MNIST\\raw\\train-labels-idx1-ubyte.gz\n"
     ]
    },
    {
     "name": "stderr",
     "output_type": "stream",
     "text": [
      "100%|██████████| 28881/28881 [00:00<00:00, 8449755.43it/s]\n"
     ]
    },
    {
     "name": "stdout",
     "output_type": "stream",
     "text": [
      "Extracting G:/py-py-py-pytorch/gnn/data\\MNIST\\raw\\train-labels-idx1-ubyte.gz to G:/py-py-py-pytorch/gnn/data\\MNIST\\raw\n",
      "\n",
      "Downloading http://yann.lecun.com/exdb/mnist/t10k-images-idx3-ubyte.gz\n",
      "Downloading http://yann.lecun.com/exdb/mnist/t10k-images-idx3-ubyte.gz to G:/py-py-py-pytorch/gnn/data\\MNIST\\raw\\t10k-images-idx3-ubyte.gz\n"
     ]
    },
    {
     "name": "stderr",
     "output_type": "stream",
     "text": [
      "100%|██████████| 1648877/1648877 [00:00<00:00, 3667573.18it/s]\n"
     ]
    },
    {
     "name": "stdout",
     "output_type": "stream",
     "text": [
      "Extracting G:/py-py-py-pytorch/gnn/data\\MNIST\\raw\\t10k-images-idx3-ubyte.gz to G:/py-py-py-pytorch/gnn/data\\MNIST\\raw\n",
      "\n",
      "Downloading http://yann.lecun.com/exdb/mnist/t10k-labels-idx1-ubyte.gz\n",
      "Downloading http://yann.lecun.com/exdb/mnist/t10k-labels-idx1-ubyte.gz to G:/py-py-py-pytorch/gnn/data\\MNIST\\raw\\t10k-labels-idx1-ubyte.gz\n"
     ]
    },
    {
     "name": "stderr",
     "output_type": "stream",
     "text": [
      "100%|██████████| 4542/4542 [00:00<00:00, 1336504.05it/s]"
     ]
    },
    {
     "name": "stdout",
     "output_type": "stream",
     "text": [
      "Extracting G:/py-py-py-pytorch/gnn/data\\MNIST\\raw\\t10k-labels-idx1-ubyte.gz to G:/py-py-py-pytorch/gnn/data\\MNIST\\raw\n",
      "\n"
     ]
    },
    {
     "name": "stderr",
     "output_type": "stream",
     "text": [
      "\n"
     ]
    }
   ],
   "source": [
    "train_dataset = torchvision.datasets.MNIST(root='G:/py-py-py-pytorch/gnn/data',train=True,download=True,\n",
    "                           transform=transforms.Compose([transforms.ToTensor()]))\n",
    "train_dataloader = DataLoader(train_dataset,batch_size = 16,shuffle=True)"
   ]
  },
  {
   "cell_type": "code",
   "execution_count": 34,
   "metadata": {},
   "outputs": [],
   "source": [
    "test_dataset = torchvision.datasets.MNIST(root='G:/py-py-py-pytorch/gnn/data',train=False,download=True,\n",
    "                           transform=transforms.Compose([transforms.ToTensor()]))\n",
    "test_dataloader = DataLoader(test_dataset,batch_size = 16,shuffle=True)"
   ]
  },
  {
   "cell_type": "code",
   "execution_count": 8,
   "metadata": {},
   "outputs": [
    {
     "data": {
      "text/plain": [
       "torch.Size([16, 1, 28, 28])"
      ]
     },
     "execution_count": 8,
     "metadata": {},
     "output_type": "execute_result"
    }
   ],
   "source": [
    "it = iter(train_dataloader)\n",
    "next(it)[0].shape"
   ]
  },
  {
   "cell_type": "code",
   "execution_count": 19,
   "metadata": {},
   "outputs": [],
   "source": [
    "class NeuralNetwork(nn.Module):\n",
    "    def __init__(self):\n",
    "        super(NeuralNetwork,self).__init__()\n",
    "        # [16,1,28,28] => [16,16,26,26]\n",
    "        self.conv_1 = nn.Conv2d(in_channels=1,out_channels=16,kernel_size=3) #\n",
    "        # after flatten, size is [16,16*26*26]\n",
    "        self.lin_1 = nn.Linear(16*26*26,128)\n",
    "        self.lin_2 = nn.Linear(128,10)\n",
    "\n",
    "    def forward(self,x):\n",
    "        # [16,1,28,28] => [16,16,26,26]\n",
    "        x = self.conv_1(x)\n",
    "        x = F.relu(x)\n",
    "        #16x(16x26x26)\n",
    "        x = x.flatten(start_dim=1)\n",
    "\n",
    "        x = self.lin_1(x)\n",
    "        x = F.relu(x)\n",
    "\n",
    "        logits = self.lin_2(x)\n",
    "        out = F.softmax(logits,dim=1)\n",
    "        return out"
   ]
  },
  {
   "cell_type": "code",
   "execution_count": 15,
   "metadata": {},
   "outputs": [
    {
     "data": {
      "text/plain": [
       "torch.Size([32, 21632])"
      ]
     },
     "execution_count": 15,
     "metadata": {},
     "output_type": "execute_result"
    }
   ],
   "source": [
    "# t = torch.rand(32,32,26,26)\n",
    "# t = t.flatten(start_dim=1)\n",
    "# t.shape"
   ]
  },
  {
   "cell_type": "code",
   "execution_count": 36,
   "metadata": {},
   "outputs": [],
   "source": [
    "# Params\n",
    "learning_rate = 3e-4\n",
    "num_epochs = 5\n",
    "model = NeuralNetwork()\n",
    "model = model.to(device)\n",
    "loss_function = nn.CrossEntropyLoss()\n",
    "optimizer = Adam(model.parameters(),lr=learning_rate)"
   ]
  },
  {
   "cell_type": "code",
   "execution_count": 38,
   "metadata": {},
   "outputs": [
    {
     "name": "stdout",
     "output_type": "stream",
     "text": [
      "Epoch: 0 || Loss: 1.65 || Train Acc: 0.82\n",
      "Epoch: 1 || Loss: 1.52 || Train Acc: 0.95\n",
      "Epoch: 2 || Loss: 1.50 || Train Acc: 0.96\n",
      "Epoch: 3 || Loss: 1.49 || Train Acc: 0.97\n",
      "Epoch: 4 || Loss: 1.48 || Train Acc: 0.98\n"
     ]
    }
   ],
   "source": [
    "# training\n",
    "for epoch in range(num_epochs):\n",
    "    train_acc = 0.0\n",
    "    train_loss = 0.0\n",
    "\n",
    "    for i, (img,label) in enumerate(train_dataloader):\n",
    "        imgs = img.to(device)\n",
    "        labels = label.to(device)\n",
    "\n",
    "        #forward\n",
    "        preds = model(imgs)\n",
    "        #loss\n",
    "        loss = loss_function(preds,labels)\n",
    "        #backprop\n",
    "        optimizer.zero_grad()\n",
    "        loss.backward()\n",
    "\n",
    "        #update wts\n",
    "        optimizer.step()\n",
    "\n",
    "        train_loss += loss.detach().item()\n",
    "        train_acc += (torch.argmax(preds,1).flatten() == labels).type(torch.float32).mean().item()\n",
    "\n",
    "    print(\"Epoch: %d || Loss: %.2f || Train Acc: %.2f\" %(epoch,train_loss/i ,train_acc/i))\n"
   ]
  },
  {
   "cell_type": "code",
   "execution_count": 63,
   "metadata": {},
   "outputs": [
    {
     "name": "stdout",
     "output_type": "stream",
     "text": [
      "0.9761\n"
     ]
    }
   ],
   "source": [
    "#evaluation\n",
    "with torch.no_grad():\n",
    "    test_acc = 0.0\n",
    "    for i, (imgs,labels) in enumerate(test_dataloader,1):\n",
    "        imgs = imgs.to(device)\n",
    "        labels = labels.to(device)\n",
    "        outs = model(imgs)\n",
    "        test_acc += (torch.argmax(outs,1).flatten() == labels).type(torch.float32).mean().item()\n",
    "    \n",
    "print(test_acc/i)"
   ]
  },
  {
   "cell_type": "code",
   "execution_count": null,
   "metadata": {},
   "outputs": [],
   "source": []
  }
 ],
 "metadata": {
  "kernelspec": {
   "display_name": "Python 3",
   "language": "python",
   "name": "python3"
  },
  "language_info": {
   "codemirror_mode": {
    "name": "ipython",
    "version": 3
   },
   "file_extension": ".py",
   "mimetype": "text/x-python",
   "name": "python",
   "nbconvert_exporter": "python",
   "pygments_lexer": "ipython3",
   "version": "3.10.0"
  }
 },
 "nbformat": 4,
 "nbformat_minor": 2
}
