{
 "cells": [
  {
   "cell_type": "code",
   "execution_count": 1,
   "metadata": {},
   "outputs": [
    {
     "name": "stderr",
     "output_type": "stream",
     "text": [
      "c:\\Users\\thepr\\.conda\\envs\\tf_exec_2.10\\lib\\site-packages\\tqdm\\auto.py:21: TqdmWarning: IProgress not found. Please update jupyter and ipywidgets. See https://ipywidgets.readthedocs.io/en/stable/user_install.html\n",
      "  from .autonotebook import tqdm as notebook_tqdm\n"
     ]
    }
   ],
   "source": [
    "import torch\n",
    "import numpy as np\n",
    "from sklearn.datasets import make_classification\n",
    "from scripts.CustomDataset import CustomDataset\n",
    "from sklearn.model_selection import train_test_split"
   ]
  },
  {
   "cell_type": "code",
   "execution_count": 2,
   "metadata": {},
   "outputs": [],
   "source": [
    "x, y = make_classification(n_samples=1000)"
   ]
  },
  {
   "cell_type": "code",
   "execution_count": 3,
   "metadata": {},
   "outputs": [],
   "source": [
    "x_train, x_test, y_train, y_test = train_test_split(x,y,stratify=y)"
   ]
  },
  {
   "cell_type": "code",
   "execution_count": 4,
   "metadata": {},
   "outputs": [],
   "source": [
    "train_ds = CustomDataset(data = x_train,targets=y_train)\n",
    "test_ds = CustomDataset(data = x_test,targets=y_test)"
   ]
  },
  {
   "cell_type": "code",
   "execution_count": 5,
   "metadata": {},
   "outputs": [],
   "source": [
    "train_dl = torch.utils.data.DataLoader(train_ds,batch_size = 4)   \n",
    "test_dl = torch.utils.data.DataLoader(test_ds,batch_size = 4)   "
   ]
  },
  {
   "cell_type": "code",
   "execution_count": 6,
   "metadata": {},
   "outputs": [],
   "source": [
    "model = lambda x,w,b: torch.matmul(x,w)+b"
   ]
  },
  {
   "cell_type": "code",
   "execution_count": 7,
   "metadata": {},
   "outputs": [],
   "source": [
    "W = torch.randn"
   ]
  },
  {
   "cell_type": "code",
   "execution_count": 8,
   "metadata": {},
   "outputs": [],
   "source": [
    "W = torch.randn(20,1,requires_grad=True)\n",
    "b = torch.randn(1,requires_grad=True)\n",
    "learning_rate = 0.001\n",
    "n_epochs = 5"
   ]
  },
  {
   "cell_type": "code",
   "execution_count": 9,
   "metadata": {},
   "outputs": [
    {
     "name": "stdout",
     "output_type": "stream",
     "text": [
      "# 0 | Loss 16.82376795151132\n",
      "# 1 | Loss 7.070440618440192\n",
      "# 2 | Loss 3.250662195793492\n",
      "# 3 | Loss 1.5939993966925652\n",
      "# 4 | Loss 0.8326311589991475\n"
     ]
    }
   ],
   "source": [
    "for epoch in range(n_epochs):\n",
    "    counter = 0\n",
    "    epoch_loss = 0\n",
    "    for data in train_dl:\n",
    "        x_tr = data[\"data\"]\n",
    "        y_tr = data[\"target \"]\n",
    "\n",
    "        out = model(x_tr,W,b)\n",
    "        loss = torch.mean((y_tr.view(-1) - out.view(-1)) ** 2)\n",
    "        epoch_loss = epoch_loss + loss.item()\n",
    "\n",
    "        loss.backward()\n",
    "\n",
    "        with torch.no_grad():\n",
    "            W = W - learning_rate * W.grad\n",
    "            b = b - learning_rate * b.grad\n",
    "\n",
    "        W.requires_grad_(True)\n",
    "        b.requires_grad_(True)\n",
    "        counter += 1\n",
    "    print(\"# {} | Loss {}\".format(epoch, epoch_loss/counter))"
   ]
  },
  {
   "cell_type": "code",
   "execution_count": null,
   "metadata": {},
   "outputs": [],
   "source": []
  }
 ],
 "metadata": {
  "kernelspec": {
   "display_name": "tf_exec_2.10",
   "language": "python",
   "name": "python3"
  },
  "language_info": {
   "codemirror_mode": {
    "name": "ipython",
    "version": 3
   },
   "file_extension": ".py",
   "mimetype": "text/x-python",
   "name": "python",
   "nbconvert_exporter": "python",
   "pygments_lexer": "ipython3",
   "version": "3.10.13"
  }
 },
 "nbformat": 4,
 "nbformat_minor": 2
}
