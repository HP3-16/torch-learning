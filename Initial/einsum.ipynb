{
 "cells": [
  {
   "cell_type": "code",
   "execution_count": 7,
   "metadata": {},
   "outputs": [],
   "source": [
    "# Describing Einsum - for learning purpose\n",
    "import torch\n",
    "# from numpy import einsum\n",
    "# from tensorflow import einsum\n",
    "from torch import einsum"
   ]
  },
  {
   "cell_type": "code",
   "execution_count": null,
   "metadata": {},
   "outputs": [],
   "source": [
    "#einsum(equation,operands)"
   ]
  },
  {
   "cell_type": "code",
   "execution_count": 14,
   "metadata": {},
   "outputs": [
    {
     "name": "stdout",
     "output_type": "stream",
     "text": [
      "\tTranspose\n",
      "\n",
      "Actual tensor\n",
      " tensor([[1, 2, 3],\n",
      "        [4, 5, 6],\n",
      "        [7, 8, 9]])\n",
      "\n",
      "After transpose\n"
     ]
    },
    {
     "data": {
      "text/plain": [
       "tensor([[1, 4, 7],\n",
       "        [2, 5, 8],\n",
       "        [3, 6, 9]])"
      ]
     },
     "execution_count": 14,
     "metadata": {},
     "output_type": "execute_result"
    }
   ],
   "source": [
    "print(\"\\tTranspose\\n\")\n",
    "t = torch.tensor([[1,2,3],[4,5,6],[7,8,9]])\n",
    "print(\"Actual tensor\\n\",t)\n",
    "print(\"\\nAfter transpose\")\n",
    "einsum('ij->ji',[t])"
   ]
  },
  {
   "cell_type": "code",
   "execution_count": 25,
   "metadata": {},
   "outputs": [
    {
     "name": "stdout",
     "output_type": "stream",
     "text": [
      "\tSum\n",
      "tensor([[ 1.,  2.],\n",
      "        [ 3.,  4.],\n",
      "        [-2., -7.]])\n",
      "\n",
      "The sum is :  tensor(1.)\n"
     ]
    }
   ],
   "source": [
    "print(\"\\tSum\")\n",
    "t = torch.tensor([[1,2],[3,4],[-2,-7]],dtype=torch.float32)\n",
    "print(t)\n",
    "t_sum = einsum('ij->',[t])\n",
    "print(\"\\nThe sum is : \",t_sum)\n"
   ]
  },
  {
   "cell_type": "code",
   "execution_count": 29,
   "metadata": {},
   "outputs": [
    {
     "name": "stdout",
     "output_type": "stream",
     "text": [
      "Dot Product\n",
      "tensor([12., 14., 17.]) tensor([7., 8., 9.])\n",
      "Dot product =  tensor(349.)\n"
     ]
    }
   ],
   "source": [
    "print(\"Dot Product\")\n",
    "t1 = torch.tensor([12,14,17],dtype=torch.float32)\n",
    "t2 = torch.arange(7,10,dtype=torch.float32)\n",
    "print(t1, t2)\n",
    "print(\"Dot product = \",einsum('i,i->',[t1,t2]))"
   ]
  },
  {
   "cell_type": "code",
   "execution_count": 34,
   "metadata": {},
   "outputs": [
    {
     "name": "stdout",
     "output_type": "stream",
     "text": [
      "Matrix Multiplication\n",
      "tensor([[1, 2, 3],\n",
      "        [4, 5, 6],\n",
      "        [7, 8, 9]]) \n",
      " tensor([[ 7,  8],\n",
      "        [ 9, 10],\n",
      "        [11, 12]])\n",
      "t1 * t2 = tensor([[ 58,  64],\n",
      "        [139, 154],\n",
      "        [220, 244]])\n"
     ]
    }
   ],
   "source": [
    "print(\"Matrix Multiplication\")\n",
    "t1 = torch.arange(1,10).reshape(3,3)\n",
    "t2 = torch.arange(7,13).reshape(3,2)\n",
    "print(t1,\"\\n\",t2)\n",
    "\n",
    "print(\"t1 * t2 =\",einsum('ik,kj->ij',[t1,t2]))"
   ]
  },
  {
   "cell_type": "code",
   "execution_count": null,
   "metadata": {},
   "outputs": [],
   "source": []
  }
 ],
 "metadata": {
  "kernelspec": {
   "display_name": "Python 3",
   "language": "python",
   "name": "python3"
  },
  "language_info": {
   "codemirror_mode": {
    "name": "ipython",
    "version": 3
   },
   "file_extension": ".py",
   "mimetype": "text/x-python",
   "name": "python",
   "nbconvert_exporter": "python",
   "pygments_lexer": "ipython3",
   "version": "3.10.0"
  },
  "orig_nbformat": 4
 },
 "nbformat": 4,
 "nbformat_minor": 2
}
