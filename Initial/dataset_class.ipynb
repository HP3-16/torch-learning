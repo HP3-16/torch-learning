{
 "cells": [
  {
   "cell_type": "code",
   "execution_count": 19,
   "metadata": {},
   "outputs": [],
   "source": [
    "import torch\n",
    "import numpy as np\n",
    "\n",
    "from sklearn.datasets import make_classification"
   ]
  },
  {
   "cell_type": "code",
   "execution_count": 20,
   "metadata": {},
   "outputs": [],
   "source": [
    "class CustomDataset:\n",
    "    def __init__(self, data, targets):\n",
    "        self.data = data\n",
    "        self.targets = targets\n",
    "\n",
    "    def __len__(self):\n",
    "        return len(self.data)\n",
    "    \n",
    "    def __getitem__(self,idx):\n",
    "        curr_item = self.data[idx,:]\n",
    "        curr_target = self.targets[idx]\n",
    "        return {\n",
    "            \"data\": torch.tensor(curr_item,dtype=torch.float),\n",
    "            \"target \": torch.tensor(curr_target,dtype=torch.long)\n",
    "            }\n",
    "    \n"
   ]
  },
  {
   "cell_type": "code",
   "execution_count": 21,
   "metadata": {},
   "outputs": [],
   "source": [
    "data,targets = make_classification(n_samples=1000)"
   ]
  },
  {
   "cell_type": "code",
   "execution_count": 22,
   "metadata": {},
   "outputs": [
    {
     "name": "stdout",
     "output_type": "stream",
     "text": [
      "(1000, 20)\n",
      "(1000,)\n"
     ]
    }
   ],
   "source": [
    "print(data.shape)\n",
    "print(targets.shape)"
   ]
  },
  {
   "cell_type": "code",
   "execution_count": 26,
   "metadata": {},
   "outputs": [
    {
     "data": {
      "text/plain": [
       "1000"
      ]
     },
     "execution_count": 26,
     "metadata": {},
     "output_type": "execute_result"
    }
   ],
   "source": [
    "custom_DS = CustomDataset(data = data, targets= targets)\n",
    "custom_DS.__len__()"
   ]
  },
  {
   "cell_type": "code",
   "execution_count": 27,
   "metadata": {},
   "outputs": [
    {
     "data": {
      "text/plain": [
       "{'data': tensor([ 0.7781,  1.4906, -0.3839,  0.4913,  0.9675,  1.0708, -1.0296, -2.3618,\n",
       "         -1.9067,  1.5510, -0.8033, -1.7700,  1.2775, -0.3891,  0.7040, -1.8823,\n",
       "          0.0164,  1.5273, -1.2959, -0.9377]),\n",
       " 'target ': tensor(0)}"
      ]
     },
     "execution_count": 27,
     "metadata": {},
     "output_type": "execute_result"
    }
   ],
   "source": [
    "custom_DS[0]"
   ]
  },
  {
   "cell_type": "code",
   "execution_count": 30,
   "metadata": {},
   "outputs": [
    {
     "data": {
      "text/plain": [
       "torch.Size([20])"
      ]
     },
     "execution_count": 30,
     "metadata": {},
     "output_type": "execute_result"
    }
   ],
   "source": [
    "custom_DS[0]['data'].shape"
   ]
  },
  {
   "cell_type": "code",
   "execution_count": 31,
   "metadata": {},
   "outputs": [
    {
     "name": "stdout",
     "output_type": "stream",
     "text": [
      "{'data': tensor([ 0.7781,  1.4906, -0.3839,  0.4913,  0.9675,  1.0708, -1.0296, -2.3618,\n",
      "        -1.9067,  1.5510, -0.8033, -1.7700,  1.2775, -0.3891,  0.7040, -1.8823,\n",
      "         0.0164,  1.5273, -1.2959, -0.9377]), 'target ': tensor(0)}\n"
     ]
    }
   ],
   "source": [
    "for idx in range(len(custom_DS)):\n",
    "    print(custom_DS[idx])\n",
    "    break"
   ]
  },
  {
   "cell_type": "code",
   "execution_count": null,
   "metadata": {},
   "outputs": [],
   "source": []
  },
  {
   "cell_type": "code",
   "execution_count": null,
   "metadata": {},
   "outputs": [],
   "source": [
    "class Custom_DS_NLP:\n",
    "    def __init__(self, data, targets, tokenizer):\n",
    "        self.data = data\n",
    "        self.targets = targets\n",
    "        self.tokenizer = tokenizer\n",
    "\n",
    "    def __len__(self):\n",
    "        return len(self.data)\n",
    "    \n",
    "    def __getitem__(self,idx):\n",
    "        text = self.data[idx]\n",
    "        #not entirely correct cuz you may have some shape like (10000,)\n",
    "        \n",
    "        if self.targets.shape[1] > 1:\n",
    "            targets = self.targets[idx, :]\n",
    "        else:\n",
    "            targets = self.targets[idx]\n",
    "\n",
    "        tokens = self.tokenizer(text)\n",
    "\n",
    "        return {\n",
    "            \"text_tokens \": torch.tensor(tokens,dtype = torch.long),\n",
    "            \"targets\": torch.tensor(targets,dtype=tokens.long)\n",
    "        }\n",
    "\n",
    "        \n",
    "\n"
   ]
  },
  {
   "cell_type": "code",
   "execution_count": null,
   "metadata": {},
   "outputs": [],
   "source": []
  },
  {
   "cell_type": "code",
   "execution_count": null,
   "metadata": {},
   "outputs": [],
   "source": []
  }
 ],
 "metadata": {
  "kernelspec": {
   "display_name": "tf_exec_2.10",
   "language": "python",
   "name": "python3"
  },
  "language_info": {
   "codemirror_mode": {
    "name": "ipython",
    "version": 3
   },
   "file_extension": ".py",
   "mimetype": "text/x-python",
   "name": "python",
   "nbconvert_exporter": "python",
   "pygments_lexer": "ipython3",
   "version": "3.10.13"
  }
 },
 "nbformat": 4,
 "nbformat_minor": 2
}
