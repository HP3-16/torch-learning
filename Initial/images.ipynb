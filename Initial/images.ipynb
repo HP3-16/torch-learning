{
 "cells": [
  {
   "cell_type": "code",
   "execution_count": 25,
   "metadata": {},
   "outputs": [],
   "source": [
    "# LOADING IMAGES\n",
    "import torch\n",
    "import numpy as np\n",
    "import imageio.v3 as imageio\n",
    "import os"
   ]
  },
  {
   "cell_type": "code",
   "execution_count": 6,
   "metadata": {},
   "outputs": [
    {
     "name": "stdout",
     "output_type": "stream",
     "text": [
      "Importing an Image\n"
     ]
    },
    {
     "data": {
      "text/plain": [
       "(720, 1280, 3)"
      ]
     },
     "execution_count": 6,
     "metadata": {},
     "output_type": "execute_result"
    }
   ],
   "source": [
    "print(\"Importing an Image\")\n",
    "img_arr = imageio.imread('G:/py-py-py-pytorch/support-additional/bobby.jpg')\n",
    "img_arr.shape"
   ]
  },
  {
   "cell_type": "code",
   "execution_count": 8,
   "metadata": {},
   "outputs": [
    {
     "name": "stdout",
     "output_type": "stream",
     "text": [
      "The dtype of img_arr :  <class 'numpy.ndarray'>\n"
     ]
    }
   ],
   "source": [
    "print(\"The type of img_arr : \",type(img_arr)) # it is a numpy array"
   ]
  },
  {
   "cell_type": "code",
   "execution_count": 9,
   "metadata": {},
   "outputs": [
    {
     "name": "stdout",
     "output_type": "stream",
     "text": [
      "The type of img_t :  <class 'torch.Tensor'>\n"
     ]
    }
   ],
   "source": [
    "img_t = torch.from_numpy(img_arr)\n",
    "print(\"The type of img_t : \",type(img_t)) # tensor"
   ]
  },
  {
   "cell_type": "code",
   "execution_count": 11,
   "metadata": {},
   "outputs": [
    {
     "name": "stdout",
     "output_type": "stream",
     "text": [
      "The current shape is torch.Size([720, 1280, 3])\n",
      "The shape after permuting :  torch.Size([3, 720, 1280])\n"
     ]
    }
   ],
   "source": [
    "# Changing shape\n",
    "print(\"The current shape is {}\".format(img_t.shape))\n",
    "final_img = img_t.permute(2,0,1)\n",
    "print(\"The shape after permuting : \",final_img.shape)"
   ]
  },
  {
   "cell_type": "code",
   "execution_count": 28,
   "metadata": {},
   "outputs": [],
   "source": [
    "#Stacking up images\n",
    "batch_size = 3\n",
    "img_batch = torch.zeros(batch_size,3,128,128,dtype=torch.uint8)"
   ]
  },
  {
   "cell_type": "code",
   "execution_count": 23,
   "metadata": {},
   "outputs": [],
   "source": [
    "data_path = 'G:/py-py-py-pytorch/support-additional/Cats/'\n",
    "filenames = [name for name in os.listdir(data_path) \n",
    "             if os.path.splitext(name)[-1] == '.jpg']\n"
   ]
  },
  {
   "cell_type": "code",
   "execution_count": 30,
   "metadata": {},
   "outputs": [],
   "source": [
    "for i,fname in enumerate(filenames):\n",
    "    img_arr = imageio.imread(os.path.join(data_path,fname))\n",
    "    img_arr = np.resize(img_arr,(128,128,3))\n",
    "    img_t = torch.from_numpy(img_arr)\n",
    "    img_t = img_t.permute(2,0,1)\n",
    "    img_t = img_t[:3]\n",
    "    img_batch[i] = img_t"
   ]
  },
  {
   "cell_type": "code",
   "execution_count": 32,
   "metadata": {},
   "outputs": [],
   "source": [
    "img_batch = img_batch.float()\n",
    "img_batch/=255.0"
   ]
  },
  {
   "cell_type": "code",
   "execution_count": 33,
   "metadata": {},
   "outputs": [
    {
     "data": {
      "text/plain": [
       "tensor([[[[1.0000, 1.0000, 1.0000,  ..., 1.0000, 1.0000, 1.0000],\n",
       "          [1.0000, 1.0000, 1.0000,  ..., 0.9843, 0.9843, 0.9843],\n",
       "          [1.0000, 1.0000, 1.0000,  ..., 1.0000, 1.0000, 1.0000],\n",
       "          ...,\n",
       "          [1.0000, 1.0000, 1.0000,  ..., 1.0000, 0.9922, 0.8275],\n",
       "          [0.7529, 0.7843, 0.7686,  ..., 1.0000, 1.0000, 1.0000],\n",
       "          [1.0000, 1.0000, 1.0000,  ..., 1.0000, 1.0000, 1.0000]],\n",
       "\n",
       "         [[1.0000, 1.0000, 1.0000,  ..., 1.0000, 1.0000, 1.0000],\n",
       "          [1.0000, 1.0000, 1.0000,  ..., 1.0000, 0.9961, 1.0000],\n",
       "          [1.0000, 1.0000, 1.0000,  ..., 1.0000, 1.0000, 1.0000],\n",
       "          ...,\n",
       "          [1.0000, 1.0000, 1.0000,  ..., 0.9961, 0.9216, 0.7333],\n",
       "          [0.6745, 0.7059, 0.6980,  ..., 1.0000, 1.0000, 1.0000],\n",
       "          [1.0000, 1.0000, 1.0000,  ..., 1.0000, 1.0000, 1.0000]],\n",
       "\n",
       "         [[1.0000, 1.0000, 1.0000,  ..., 1.0000, 1.0000, 1.0000],\n",
       "          [1.0000, 1.0000, 1.0000,  ..., 1.0000, 1.0000, 1.0000],\n",
       "          [1.0000, 1.0000, 1.0000,  ..., 1.0000, 1.0000, 1.0000],\n",
       "          ...,\n",
       "          [1.0000, 1.0000, 1.0000,  ..., 0.9725, 0.9059, 0.7176],\n",
       "          [0.6471, 0.6706, 0.6510,  ..., 1.0000, 1.0000, 1.0000],\n",
       "          [1.0000, 1.0000, 1.0000,  ..., 1.0000, 1.0000, 1.0000]]],\n",
       "\n",
       "\n",
       "        [[[0.7804, 0.7843, 0.7922,  ..., 0.8667, 0.8667, 0.8667],\n",
       "          [0.8667, 0.8667, 0.8706,  ..., 0.8314, 0.8353, 0.8471],\n",
       "          [0.8627, 0.8667, 0.8667,  ..., 0.9255, 0.9255, 0.9255],\n",
       "          ...,\n",
       "          [0.7922, 0.7882, 0.7922,  ..., 0.0706, 0.0706, 0.0706],\n",
       "          [0.0667, 0.0667, 0.0667,  ..., 0.4314, 0.4549, 0.4667],\n",
       "          [0.4941, 0.5059, 0.5216,  ..., 0.8196, 0.8196, 0.8196]],\n",
       "\n",
       "         [[0.6745, 0.6706, 0.6745,  ..., 0.7216, 0.7098, 0.7059],\n",
       "          [0.7098, 0.7098, 0.7059,  ..., 0.7725, 0.7686, 0.7725],\n",
       "          [0.7804, 0.7725, 0.7608,  ..., 0.7765, 0.7765, 0.7804],\n",
       "          ...,\n",
       "          [0.7490, 0.7529, 0.7490,  ..., 0.0902, 0.0902, 0.0902],\n",
       "          [0.0980, 0.0941, 0.0980,  ..., 0.4078, 0.4314, 0.4510],\n",
       "          [0.4706, 0.4824, 0.4980,  ..., 0.5843, 0.5804, 0.5804]],\n",
       "\n",
       "         [[0.3725, 0.3569, 0.3294,  ..., 0.3765, 0.3333, 0.2824],\n",
       "          [0.2353, 0.1922, 0.1647,  ..., 0.6902, 0.6588, 0.6157],\n",
       "          [0.5725, 0.5216, 0.4824,  ..., 0.3882, 0.3882, 0.3647],\n",
       "          ...,\n",
       "          [0.7333, 0.7333, 0.7333,  ..., 0.1020, 0.1020, 0.1020],\n",
       "          [0.1098, 0.1176, 0.1098,  ..., 0.3059, 0.3294, 0.3451],\n",
       "          [0.3765, 0.3882, 0.4118,  ..., 0.0118, 0.0196, 0.0196]]],\n",
       "\n",
       "\n",
       "        [[[0.2235, 0.2235, 0.2235,  ..., 0.9451, 0.9412, 0.9373],\n",
       "          [0.9216, 0.9176, 0.9176,  ..., 0.0941, 0.0863, 0.0824],\n",
       "          [0.0902, 0.0941, 0.0941,  ..., 0.4784, 0.4784, 0.4784],\n",
       "          ...,\n",
       "          [0.4235, 0.4235, 0.4196,  ..., 0.2196, 0.2235, 0.2275],\n",
       "          [0.2392, 0.2510, 0.2588,  ..., 0.0667, 0.0824, 0.0941],\n",
       "          [0.1529, 0.1765, 0.1961,  ..., 0.7882, 0.7843, 0.7843]],\n",
       "\n",
       "         [[0.2392, 0.2392, 0.2392,  ..., 0.7569, 0.7529, 0.7490],\n",
       "          [0.7412, 0.7373, 0.7294,  ..., 0.1176, 0.1059, 0.1020],\n",
       "          [0.1020, 0.1137, 0.1137,  ..., 0.5020, 0.5020, 0.5020],\n",
       "          ...,\n",
       "          [0.4392, 0.4392, 0.4353,  ..., 0.2392, 0.2431, 0.2471],\n",
       "          [0.2510, 0.2549, 0.2627,  ..., 0.0980, 0.1020, 0.1137],\n",
       "          [0.1569, 0.1843, 0.1961,  ..., 0.7373, 0.7333, 0.7294]],\n",
       "\n",
       "         [[0.2510, 0.2510, 0.2510,  ..., 0.6706, 0.6667, 0.6627],\n",
       "          [0.6471, 0.6431, 0.6392,  ..., 0.1098, 0.0902, 0.0863],\n",
       "          [0.1216, 0.1373, 0.1373,  ..., 0.4941, 0.4941, 0.4863],\n",
       "          ...,\n",
       "          [0.4353, 0.4353, 0.4314,  ..., 0.2627, 0.2667, 0.2627],\n",
       "          [0.2706, 0.2706, 0.2784,  ..., 0.1059, 0.1137, 0.1255],\n",
       "          [0.1647, 0.1804, 0.2039,  ..., 0.7020, 0.6980, 0.6941]]]])"
      ]
     },
     "execution_count": 33,
     "metadata": {},
     "output_type": "execute_result"
    }
   ],
   "source": [
    "img_batch"
   ]
  },
  {
   "cell_type": "code",
   "execution_count": null,
   "metadata": {},
   "outputs": [],
   "source": []
  }
 ],
 "metadata": {
  "kernelspec": {
   "display_name": "Python 3",
   "language": "python",
   "name": "python3"
  },
  "language_info": {
   "codemirror_mode": {
    "name": "ipython",
    "version": 3
   },
   "file_extension": ".py",
   "mimetype": "text/x-python",
   "name": "python",
   "nbconvert_exporter": "python",
   "pygments_lexer": "ipython3",
   "version": "3.10.0"
  },
  "orig_nbformat": 4
 },
 "nbformat": 4,
 "nbformat_minor": 2
}
