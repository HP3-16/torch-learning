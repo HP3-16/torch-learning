{
 "cells": [
  {
   "cell_type": "code",
   "execution_count": 36,
   "metadata": {},
   "outputs": [],
   "source": [
    "import numpy as np\n",
    "import torch"
   ]
  },
  {
   "cell_type": "code",
   "execution_count": 2,
   "metadata": {},
   "outputs": [
    {
     "data": {
      "text/plain": [
       "tensor([[1., 1.],\n",
       "        [1., 1.],\n",
       "        [1., 1.]])"
      ]
     },
     "execution_count": 2,
     "metadata": {},
     "output_type": "execute_result"
    }
   ],
   "source": [
    "a = torch.ones(3,2)\n",
    "a"
   ]
  },
  {
   "cell_type": "code",
   "execution_count": 3,
   "metadata": {},
   "outputs": [
    {
     "data": {
      "text/plain": [
       "tensor([[1., 1.],\n",
       "        [1., 1.],\n",
       "        [2., 1.]])"
      ]
     },
     "execution_count": 3,
     "metadata": {},
     "output_type": "execute_result"
    }
   ],
   "source": [
    "a[2,0] = 2\n",
    "a"
   ]
  },
  {
   "cell_type": "code",
   "execution_count": 4,
   "metadata": {},
   "outputs": [
    {
     "name": "stdout",
     "output_type": "stream",
     "text": [
      "1.0\n"
     ]
    }
   ],
   "source": [
    "print(float(a[2,1]))"
   ]
  },
  {
   "cell_type": "code",
   "execution_count": 5,
   "metadata": {},
   "outputs": [
    {
     "data": {
      "text/plain": [
       "tensor([[1, 2, 3],\n",
       "        [3, 4, 5],\n",
       "        [5, 6, 7]])"
      ]
     },
     "execution_count": 5,
     "metadata": {},
     "output_type": "execute_result"
    }
   ],
   "source": [
    "a = [[1,2,3],[3,4,5],[5,6,7]]\n",
    "a_tensor = torch.tensor(a)\n",
    "a_tensor"
   ]
  },
  {
   "cell_type": "code",
   "execution_count": 6,
   "metadata": {},
   "outputs": [
    {
     "data": {
      "text/plain": [
       "[0, 1, 2, 3, 4]"
      ]
     },
     "execution_count": 6,
     "metadata": {},
     "output_type": "execute_result"
    }
   ],
   "source": [
    "l = list(range(6))\n",
    "l\n",
    "l[:5]"
   ]
  },
  {
   "cell_type": "code",
   "execution_count": 7,
   "metadata": {},
   "outputs": [],
   "source": [
    "img_t = torch.randn(3,5,5)\n",
    "weights = torch.tensor([0.2124,0.7152,0.0722])\n"
   ]
  },
  {
   "cell_type": "code",
   "execution_count": 8,
   "metadata": {},
   "outputs": [
    {
     "data": {
      "text/plain": [
       "tensor([[[ 0.0846,  0.0408,  0.1411,  0.7226, -1.1527],\n",
       "         [ 0.4903,  0.8845,  2.4389,  0.8120,  0.1765],\n",
       "         [ 1.6802, -0.1064,  0.3137,  1.1564,  0.2854],\n",
       "         [-0.5047, -0.3802,  1.7438,  2.5764,  0.6908],\n",
       "         [-2.6140,  0.1855,  1.4227, -1.5982,  0.3578]],\n",
       "\n",
       "        [[-1.6954, -0.3463,  0.2720, -0.1873, -0.4363],\n",
       "         [ 0.2193,  0.2677, -2.9773,  1.0920, -0.4360],\n",
       "         [-1.5100, -0.7536,  0.4873, -0.6700,  1.3414],\n",
       "         [ 1.3560,  0.4988, -1.6593, -0.7722, -0.2740],\n",
       "         [-0.9892,  0.1886,  0.7788, -1.0460, -0.0913]],\n",
       "\n",
       "        [[ 0.4982, -0.0831, -0.1574,  0.7439, -0.3985],\n",
       "         [-0.3425,  1.0660, -1.1089,  0.9347, -0.8341],\n",
       "         [ 1.3825, -2.0424, -0.6613,  1.6561, -1.1278],\n",
       "         [-0.4330,  2.0548,  0.0805,  1.0143,  1.3515],\n",
       "         [-0.2911, -0.2355, -0.5469,  0.6385, -0.1130]]])"
      ]
     },
     "execution_count": 8,
     "metadata": {},
     "output_type": "execute_result"
    }
   ],
   "source": [
    "img_t"
   ]
  },
  {
   "cell_type": "code",
   "execution_count": 9,
   "metadata": {},
   "outputs": [],
   "source": [
    "batch_t = torch.randn(2,3,5,5)"
   ]
  },
  {
   "cell_type": "code",
   "execution_count": 10,
   "metadata": {},
   "outputs": [
    {
     "name": "stdout",
     "output_type": "stream",
     "text": [
      "torch.Size([5, 5]) torch.Size([2, 5, 5])\n"
     ]
    }
   ],
   "source": [
    "img_gray = img_t.mean(-3) # lazy unweighted mean\n",
    "batch_gray = batch_t.mean(-3)\n",
    "print(img_gray.shape,batch_gray.shape)\n"
   ]
  },
  {
   "cell_type": "code",
   "execution_count": 11,
   "metadata": {},
   "outputs": [
    {
     "data": {
      "text/plain": [
       "tensor([[-0.3709, -0.1295,  0.0852,  0.4264, -0.6625],\n",
       "        [ 0.1224,  0.7394, -0.5491,  0.9462, -0.3645],\n",
       "        [ 0.5176, -0.9675,  0.0466,  0.7142,  0.1663],\n",
       "        [ 0.1394,  0.7245,  0.0550,  0.9395,  0.5894],\n",
       "        [-1.2981,  0.0462,  0.5515, -0.6686,  0.0512]])"
      ]
     },
     "execution_count": 11,
     "metadata": {},
     "output_type": "execute_result"
    }
   ],
   "source": [
    "img_gray"
   ]
  },
  {
   "cell_type": "code",
   "execution_count": 12,
   "metadata": {},
   "outputs": [
    {
     "name": "stdout",
     "output_type": "stream",
     "text": [
      "The shape of unsqueezed weights : torch.Size([3, 1, 1])\n",
      "\n",
      "The shape of img_tensor : torch.Size([3, 5, 5])\n",
      "\n",
      "The shape of batch_tensor : torch.Size([2, 3, 5, 5])\n",
      "\n",
      "After multiplying, the shape of img_weights is torch.Size([3, 5, 5])\n",
      "the shape of batch_weights is torch.Size([2, 3, 5, 5])\n"
     ]
    }
   ],
   "source": [
    "unsq_weights = weights.unsqueeze(-1).unsqueeze_(-1) \n",
    "\n",
    "print(\"The shape of unsqueezed weights : {0}\".format(unsq_weights.shape))\n",
    "print(\"\\nThe shape of img_tensor : {0}\".format(img_t.shape))\n",
    "print(\"\\nThe shape of batch_tensor : {0}\".format(batch_t.shape))\n",
    "\n",
    "img_weights = (img_t * unsq_weights)\n",
    "batch_weights = (batch_t * unsq_weights)\n",
    "\n",
    "print(\"\\nAfter multiplying, the shape of img_weights is {}\\nthe shape of batch_weights is {}\".format(img_weights.shape,batch_weights.shape))\n"
   ]
  },
  {
   "cell_type": "code",
   "execution_count": 13,
   "metadata": {},
   "outputs": [
    {
     "name": "stdout",
     "output_type": "stream",
     "text": [
      "Named Weights\n",
      "\n",
      "tensor([0.2126, 0.7152, 0.0722], names=('channels',))\n"
     ]
    },
    {
     "name": "stderr",
     "output_type": "stream",
     "text": [
      "C:\\Users\\thepr\\AppData\\Local\\Temp\\ipykernel_30368\\1687844413.py:2: UserWarning: Named tensors and all their associated APIs are an experimental feature and subject to change. Please do not use them for anything important until they are released as stable. (Triggered internally at  ..\\c10/core/TensorImpl.h:1463.)\n",
      "  weights_n = torch.tensor([0.2126,0.7152,0.0722],names=['channels'])\n"
     ]
    }
   ],
   "source": [
    "print(\"Named Weights\\n\")\n",
    "weights_n = torch.tensor([0.2126,0.7152,0.0722],names=['channels'])\n",
    "print(weights_n)"
   ]
  },
  {
   "cell_type": "code",
   "execution_count": 14,
   "metadata": {},
   "outputs": [
    {
     "name": "stdout",
     "output_type": "stream",
     "text": [
      "('channels', 'rows', 'columns') (None, 'channels', 'rows', 'columns')\n"
     ]
    }
   ],
   "source": [
    "# refine_names\n",
    "img_t_named = img_t.refine_names(...,'channels','rows','columns')\n",
    "batch_t_named = batch_t.refine_names(...,'channels','rows','columns')\n",
    "\n",
    "print(img_t_named.names,batch_t_named.names)\n",
    "\n"
   ]
  },
  {
   "cell_type": "code",
   "execution_count": 15,
   "metadata": {},
   "outputs": [
    {
     "name": "stdout",
     "output_type": "stream",
     "text": [
      "tensor([[[0.2126]],\n",
      "\n",
      "        [[0.7152]],\n",
      "\n",
      "        [[0.0722]]], names=('channels', 'rows', 'columns'))\n",
      "torch.Size([3, 1, 1])\n",
      "('channels', 'rows', 'columns')\n"
     ]
    }
   ],
   "source": [
    "weights_n_aligned = weights_n.align_as(img_t_named)\n",
    "print(weights_n_aligned)\n",
    "print(weights_n_aligned.shape)\n",
    "print(weights_n_aligned.names)"
   ]
  },
  {
   "cell_type": "code",
   "execution_count": 16,
   "metadata": {},
   "outputs": [
    {
     "name": "stdout",
     "output_type": "stream",
     "text": [
      "tensor([[1., 2., 3.],\n",
      "        [4., 5., 6.],\n",
      "        [7., 8., 9.]])\n"
     ]
    }
   ],
   "source": [
    "t_1 = torch.arange(1,10,dtype=torch.float32).reshape(3,3)\n",
    "print(t_1)\n",
    "t_1 = t_1.refine_names(...,'a','b')\n",
    "t_1 = t_1.align_as(t_1)"
   ]
  },
  {
   "cell_type": "code",
   "execution_count": 17,
   "metadata": {},
   "outputs": [
    {
     "name": "stdout",
     "output_type": "stream",
     "text": [
      "tensor([12., 15., 18.], names=('b',))\n"
     ]
    }
   ],
   "source": [
    "sum_t = t_1.sum('a')\n",
    "print(sum_t)"
   ]
  },
  {
   "cell_type": "code",
   "execution_count": 18,
   "metadata": {},
   "outputs": [
    {
     "name": "stdout",
     "output_type": "stream",
     "text": [
      "API Func.\n",
      "\n",
      "tensor([[1., 1.],\n",
      "        [1., 1.],\n",
      "        [1., 1.]])\n",
      "\n",
      "tensor([[1., 1., 1.],\n",
      "        [1., 1., 1.]])\n",
      "\n"
     ]
    }
   ],
   "source": [
    "print('API Func.\\n')\n",
    "a = torch.ones(3,2)\n",
    "a_ = torch.transpose(a,0,1)\n",
    "print(\"{}\\n\".format(a))\n",
    "print(\"{}\\n\".format(a_))"
   ]
  },
  {
   "cell_type": "code",
   "execution_count": 19,
   "metadata": {},
   "outputs": [
    {
     "name": "stdout",
     "output_type": "stream",
     "text": [
      "Storage_Views\n",
      "\n",
      "Tensor 1         :  \n",
      "tensor([[2, 0, 1],\n",
      "        [3, 1, 7],\n",
      "        [9, 4, 5]])\n",
      "\n",
      "Tensor_st_view   :  \n",
      " 2\n",
      " 0\n",
      " 1\n",
      " 3\n",
      " 1\n",
      " 7\n",
      " 9\n",
      " 4\n",
      " 5\n",
      "[torch.LongStorage of size 9]\n",
      "\n"
     ]
    }
   ],
   "source": [
    "print(\"Storage_Views\\n\")\n",
    "tensor_1 = torch.tensor([[2,0,1],[3,1,7],[9,4,5]])\n",
    "print('Tensor 1         :  \\n{}\\n'.format(tensor_1))\n",
    "print('Tensor_st_view   :  \\n{}\\n'.format(tensor_1.storage()))"
   ]
  },
  {
   "cell_type": "code",
   "execution_count": 60,
   "metadata": {},
   "outputs": [
    {
     "data": {
      "text/plain": [
       "3"
      ]
     },
     "execution_count": 60,
     "metadata": {},
     "output_type": "execute_result"
    }
   ],
   "source": [
    "tensor_1[1].storage_offset()"
   ]
  },
  {
   "cell_type": "code",
   "execution_count": 21,
   "metadata": {},
   "outputs": [
    {
     "data": {
      "text/plain": [
       "tensor([[0.5283, 0.8314, 0.6599, 0.5146],\n",
       "        [0.7844, 0.1614, 0.8483, 0.0976],\n",
       "        [0.1004, 0.5309, 0.1928, 0.2388]])"
      ]
     },
     "execution_count": 21,
     "metadata": {},
     "output_type": "execute_result"
    }
   ],
   "source": [
    "my_tensor = torch.rand(3,4)\n",
    "my_tensor"
   ]
  },
  {
   "cell_type": "code",
   "execution_count": 25,
   "metadata": {},
   "outputs": [
    {
     "name": "stdout",
     "output_type": "stream",
     "text": [
      "cpu\n",
      "cuda:0\n"
     ]
    }
   ],
   "source": [
    "print(my_tensor.device)\n",
    "my_tensor = my_tensor.to(\"cuda\")\n",
    "print(my_tensor.device)\n",
    "\n"
   ]
  },
  {
   "cell_type": "code",
   "execution_count": 27,
   "metadata": {},
   "outputs": [
    {
     "data": {
      "text/plain": [
       "tensor([[0.8314, 0.6599, 0.5146],\n",
       "        [0.1614, 0.8483, 0.0976],\n",
       "        [0.5309, 0.1928, 0.2388]], device='cuda:0')"
      ]
     },
     "execution_count": 27,
     "metadata": {},
     "output_type": "execute_result"
    }
   ],
   "source": [
    "my_tensor[:,1:]"
   ]
  },
  {
   "cell_type": "code",
   "execution_count": 29,
   "metadata": {},
   "outputs": [
    {
     "data": {
      "text/plain": [
       "tensor([[0.2791, 0.6912, 0.4355, 0.2648],\n",
       "        [0.6153, 0.0261, 0.7196, 0.0095],\n",
       "        [0.0101, 0.2818, 0.0372, 0.0570]], device='cuda:0')"
      ]
     },
     "execution_count": 29,
     "metadata": {},
     "output_type": "execute_result"
    }
   ],
   "source": [
    "# Elementwise\n",
    "my_tensor.mul(my_tensor)\n",
    "my_tensor * my_tensor"
   ]
  },
  {
   "cell_type": "code",
   "execution_count": 32,
   "metadata": {},
   "outputs": [
    {
     "data": {
      "text/plain": [
       "tensor([[1.6706, 1.1582, 0.7445],\n",
       "        [1.1582, 1.3699, 0.3512],\n",
       "        [0.7445, 0.3512, 0.3860]], device='cuda:0')"
      ]
     },
     "execution_count": 32,
     "metadata": {},
     "output_type": "execute_result"
    }
   ],
   "source": [
    "# Matrix Multiplication\n",
    "my_tensor.matmul(my_tensor.T)\n",
    "torch.matmul(my_tensor,my_tensor.T)\n",
    "my_tensor @ my_tensor.T"
   ]
  },
  {
   "cell_type": "code",
   "execution_count": 37,
   "metadata": {},
   "outputs": [
    {
     "data": {
      "text/plain": [
       "tensor([[1, 2, 3],\n",
       "        [4, 5, 6],\n",
       "        [7, 8, 9]], dtype=torch.int32)"
      ]
     },
     "execution_count": 37,
     "metadata": {},
     "output_type": "execute_result"
    }
   ],
   "source": [
    "arr = [[1,2,3],[4,5,6],[7,8,9]]\n",
    "np_arr = np.asarray(arr)\n",
    "tensor_1 = torch.from_numpy(np_arr)\n",
    "tensor_1"
   ]
  },
  {
   "cell_type": "code",
   "execution_count": 39,
   "metadata": {},
   "outputs": [
    {
     "name": "stdout",
     "output_type": "stream",
     "text": [
      "tensor([12, 15, 18])\n",
      "tensor([ 6, 15, 24])\n"
     ]
    }
   ],
   "source": [
    "print(tensor_1.sum(axis=0))\n",
    "print(tensor_1.sum(axis=1))"
   ]
  },
  {
   "cell_type": "code",
   "execution_count": 41,
   "metadata": {},
   "outputs": [
    {
     "data": {
      "text/plain": [
       "tensor([[0.5283, 0.8314, 0.6599, 0.5146, 0.5283, 0.8314, 0.6599, 0.5146],\n",
       "        [0.7844, 0.1614, 0.8483, 0.0976, 0.7844, 0.1614, 0.8483, 0.0976],\n",
       "        [0.1004, 0.5309, 0.1928, 0.2388, 0.1004, 0.5309, 0.1928, 0.2388]],\n",
       "       device='cuda:0')"
      ]
     },
     "execution_count": 41,
     "metadata": {},
     "output_type": "execute_result"
    }
   ],
   "source": [
    "torch.cat([my_tensor,my_tensor],axis=1)"
   ]
  },
  {
   "cell_type": "code",
   "execution_count": 43,
   "metadata": {},
   "outputs": [
    {
     "data": {
      "text/plain": [
       "tensor([[0.2232, 0.3022, 0.2545, 0.2201],\n",
       "        [0.3220, 0.1727, 0.3433, 0.1620],\n",
       "        [0.2091, 0.3215, 0.2293, 0.2401]], device='cuda:0')"
      ]
     },
     "execution_count": 43,
     "metadata": {},
     "output_type": "execute_result"
    }
   ],
   "source": [
    "torch.nn.functional.softmax(my_tensor,dim=1)"
   ]
  },
  {
   "cell_type": "code",
   "execution_count": 46,
   "metadata": {},
   "outputs": [
    {
     "data": {
      "text/plain": [
       "torch.Size([3, 4])"
      ]
     },
     "execution_count": 46,
     "metadata": {},
     "output_type": "execute_result"
    }
   ],
   "source": [
    "my_tensor.shape"
   ]
  },
  {
   "cell_type": "code",
   "execution_count": 48,
   "metadata": {},
   "outputs": [
    {
     "data": {
      "text/plain": [
       "torch.Size([10, 3, 128, 128])"
      ]
     },
     "execution_count": 48,
     "metadata": {},
     "output_type": "execute_result"
    }
   ],
   "source": [
    "torch.rand(10,3,128,128).shape"
   ]
  },
  {
   "cell_type": "code",
   "execution_count": 49,
   "metadata": {},
   "outputs": [
    {
     "data": {
      "text/plain": [
       "tensor([[0.5283, 0.8000, 0.6599, 0.5146],\n",
       "        [0.7844, 0.2000, 0.8000, 0.2000],\n",
       "        [0.2000, 0.5309, 0.2000, 0.2388]], device='cuda:0')"
      ]
     },
     "execution_count": 49,
     "metadata": {},
     "output_type": "execute_result"
    }
   ],
   "source": [
    "#Clippling operation \n",
    "my_tensor.clip(0.2,0.8)"
   ]
  },
  {
   "cell_type": "code",
   "execution_count": 50,
   "metadata": {},
   "outputs": [
    {
     "data": {
      "text/plain": [
       "array([[0.52827615, 0.83141387, 0.6599014 , 0.5146011 ],\n",
       "       [0.78438544, 0.16142142, 0.84830976, 0.0975855 ],\n",
       "       [0.10035336, 0.5308653 , 0.19281822, 0.23875731]], dtype=float32)"
      ]
     },
     "execution_count": 50,
     "metadata": {},
     "output_type": "execute_result"
    }
   ],
   "source": [
    "my_tensor.cpu().detach().numpy()"
   ]
  },
  {
   "cell_type": "code",
   "execution_count": null,
   "metadata": {},
   "outputs": [],
   "source": []
  }
 ],
 "metadata": {
  "kernelspec": {
   "display_name": "Python 3",
   "language": "python",
   "name": "python3"
  },
  "language_info": {
   "codemirror_mode": {
    "name": "ipython",
    "version": 3
   },
   "file_extension": ".py",
   "mimetype": "text/x-python",
   "name": "python",
   "nbconvert_exporter": "python",
   "pygments_lexer": "ipython3",
   "version": "3.10.13"
  },
  "orig_nbformat": 4
 },
 "nbformat": 4,
 "nbformat_minor": 2
}
