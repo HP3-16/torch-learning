{
 "cells": [
  {
   "cell_type": "code",
   "execution_count": 1,
   "metadata": {},
   "outputs": [],
   "source": [
    "import torch"
   ]
  },
  {
   "cell_type": "code",
   "execution_count": 5,
   "metadata": {},
   "outputs": [
    {
     "data": {
      "text/plain": [
       "tensor([[1., 1.],\n",
       "        [1., 1.],\n",
       "        [1., 1.]])"
      ]
     },
     "execution_count": 5,
     "metadata": {},
     "output_type": "execute_result"
    }
   ],
   "source": [
    "a = torch.ones(3,2)\n",
    "a"
   ]
  },
  {
   "cell_type": "code",
   "execution_count": 6,
   "metadata": {},
   "outputs": [
    {
     "data": {
      "text/plain": [
       "tensor([[1., 1.],\n",
       "        [1., 1.],\n",
       "        [2., 1.]])"
      ]
     },
     "execution_count": 6,
     "metadata": {},
     "output_type": "execute_result"
    }
   ],
   "source": [
    "a[2,0] = 2\n",
    "a"
   ]
  },
  {
   "cell_type": "code",
   "execution_count": 11,
   "metadata": {},
   "outputs": [
    {
     "name": "stdout",
     "output_type": "stream",
     "text": [
      "1.0\n"
     ]
    }
   ],
   "source": [
    "print(float(a[2,1]))"
   ]
  },
  {
   "cell_type": "code",
   "execution_count": 12,
   "metadata": {},
   "outputs": [
    {
     "data": {
      "text/plain": [
       "tensor([[1, 2, 3],\n",
       "        [3, 4, 5],\n",
       "        [5, 6, 7]])"
      ]
     },
     "execution_count": 12,
     "metadata": {},
     "output_type": "execute_result"
    }
   ],
   "source": [
    "a = [[1,2,3],[3,4,5],[5,6,7]]\n",
    "a_tensor = torch.tensor(a)\n",
    "a_tensor"
   ]
  },
  {
   "cell_type": "code",
   "execution_count": 13,
   "metadata": {},
   "outputs": [
    {
     "data": {
      "text/plain": [
       "[0, 1, 2, 3, 4]"
      ]
     },
     "execution_count": 13,
     "metadata": {},
     "output_type": "execute_result"
    }
   ],
   "source": [
    "l = list(range(6))\n",
    "l\n",
    "l[:5]"
   ]
  },
  {
   "cell_type": "code",
   "execution_count": 14,
   "metadata": {},
   "outputs": [],
   "source": [
    "img_t = torch.randn(3,5,5)\n",
    "weights = torch.tensor([0.2124,0.7152,0.0722])\n"
   ]
  },
  {
   "cell_type": "code",
   "execution_count": 21,
   "metadata": {},
   "outputs": [
    {
     "data": {
      "text/plain": [
       "tensor([[[ 1.1485, -1.6306,  1.4567, -0.3608,  0.3380],\n",
       "         [-0.6960,  0.1877,  0.7792, -0.3296, -0.5024],\n",
       "         [ 0.0082, -0.2893,  0.9109,  2.1747,  0.6809],\n",
       "         [-0.5131,  0.4713, -0.2134,  0.1797, -2.5766],\n",
       "         [ 1.3368,  0.1103, -0.9111,  0.5832,  0.1367]],\n",
       "\n",
       "        [[ 0.4149, -0.5292, -0.4215, -0.1083, -0.7333],\n",
       "         [ 0.2278,  0.5313, -0.0295,  0.5976,  0.6232],\n",
       "         [ 0.4160,  1.1668, -1.0755,  1.1747,  0.5657],\n",
       "         [ 0.4254, -0.6774,  0.6938,  0.4343,  0.6005],\n",
       "         [-0.3470, -0.1010, -1.1311,  0.1503, -1.3737]],\n",
       "\n",
       "        [[-1.0400,  1.3302, -0.6822,  1.3560, -1.9215],\n",
       "         [-1.1262,  0.4544, -0.4941, -0.0885, -0.7574],\n",
       "         [ 2.5431,  0.2233,  1.6895, -1.5261,  2.5241],\n",
       "         [ 0.8608,  0.1876,  0.2665, -0.1353, -1.0072],\n",
       "         [-0.6682, -0.0323,  0.1902,  0.9402,  2.2153]]])"
      ]
     },
     "execution_count": 21,
     "metadata": {},
     "output_type": "execute_result"
    }
   ],
   "source": [
    "img_t"
   ]
  },
  {
   "cell_type": "code",
   "execution_count": 15,
   "metadata": {},
   "outputs": [],
   "source": [
    "batch_t = torch.randn(2,3,5,5)"
   ]
  },
  {
   "cell_type": "code",
   "execution_count": 16,
   "metadata": {},
   "outputs": [
    {
     "name": "stdout",
     "output_type": "stream",
     "text": [
      "torch.Size([5, 5]) torch.Size([2, 5, 5])\n"
     ]
    }
   ],
   "source": [
    "img_gray = img_t.mean(-3) # lazy unweighted mean\n",
    "batch_gray = batch_t.mean(-3)\n",
    "print(img_gray.shape,batch_gray.shape)\n"
   ]
  },
  {
   "cell_type": "code",
   "execution_count": 20,
   "metadata": {},
   "outputs": [
    {
     "data": {
      "text/plain": [
       "tensor([[ 0.1745, -0.2765,  0.1177,  0.2956, -0.7723],\n",
       "        [-0.5315,  0.3912,  0.0852,  0.0598, -0.2122],\n",
       "        [ 0.9891,  0.3669,  0.5083,  0.6078,  1.2569],\n",
       "        [ 0.2577, -0.0062,  0.2490,  0.1596, -0.9944],\n",
       "        [ 0.1072, -0.0077, -0.6173,  0.5579,  0.3261]])"
      ]
     },
     "execution_count": 20,
     "metadata": {},
     "output_type": "execute_result"
    }
   ],
   "source": [
    "img_gray"
   ]
  },
  {
   "cell_type": "code",
   "execution_count": 24,
   "metadata": {},
   "outputs": [
    {
     "name": "stdout",
     "output_type": "stream",
     "text": [
      "The shape of unsqueezed weights : torch.Size([3, 1, 1])\n",
      "\n",
      "The shape of img_tensor : torch.Size([3, 5, 5])\n",
      "\n",
      "The shape of batch_tensor : torch.Size([2, 3, 5, 5])\n",
      "\n",
      "After multiplying, the shape of img_weights is torch.Size([3, 5, 5])\n",
      "the shape of batch_weights is torch.Size([2, 3, 5, 5])\n"
     ]
    }
   ],
   "source": [
    "unsq_weights = weights.unsqueeze(-1).unsqueeze_(-1) \n",
    "\n",
    "print(\"The shape of unsqueezed weights : {0}\".format(unsq_weights.shape))\n",
    "print(\"\\nThe shape of img_tensor : {0}\".format(img_t.shape))\n",
    "print(\"\\nThe shape of batch_tensor : {0}\".format(batch_t.shape))\n",
    "\n",
    "img_weights = (img_t * unsq_weights)\n",
    "batch_weights = (batch_t * unsq_weights)\n",
    "\n",
    "print(\"\\nAfter multiplying, the shape of img_weights is {}\\nthe shape of batch_weights is {}\".format(img_weights.shape,batch_weights.shape))\n"
   ]
  },
  {
   "cell_type": "code",
   "execution_count": 27,
   "metadata": {},
   "outputs": [
    {
     "name": "stdout",
     "output_type": "stream",
     "text": [
      "Named Weights\n",
      "\n",
      "tensor([0.2126, 0.7152, 0.0722], names=('channels',))\n"
     ]
    }
   ],
   "source": [
    "print(\"Named Weights\\n\")\n",
    "weights_n = torch.tensor([0.2126,0.7152,0.0722],names=['channels'])\n",
    "print(weights_n)"
   ]
  },
  {
   "cell_type": "code",
   "execution_count": 28,
   "metadata": {},
   "outputs": [
    {
     "name": "stdout",
     "output_type": "stream",
     "text": [
      "('channels', 'rows', 'columns') (None, 'channels', 'rows', 'columns')\n"
     ]
    }
   ],
   "source": [
    "# refine_names\n",
    "img_t_named = img_t.refine_names(...,'channels','rows','columns')\n",
    "batch_t_named = batch_t.refine_names(...,'channels','rows','columns')\n",
    "\n",
    "print(img_t_named.names,batch_t_named.names)\n",
    "\n"
   ]
  },
  {
   "cell_type": "code",
   "execution_count": 32,
   "metadata": {},
   "outputs": [
    {
     "name": "stdout",
     "output_type": "stream",
     "text": [
      "tensor([[[0.2126]],\n",
      "\n",
      "        [[0.7152]],\n",
      "\n",
      "        [[0.0722]]], names=('channels', 'rows', 'columns'))\n",
      "torch.Size([3, 1, 1])\n",
      "('channels', 'rows', 'columns')\n"
     ]
    }
   ],
   "source": [
    "weights_n_aligned = weights_n.align_as(img_t_named)\n",
    "print(weights_n_aligned)\n",
    "print(weights_n_aligned.shape)\n",
    "print(weights_n_aligned.names)"
   ]
  },
  {
   "cell_type": "code",
   "execution_count": 44,
   "metadata": {},
   "outputs": [
    {
     "name": "stdout",
     "output_type": "stream",
     "text": [
      "tensor([[1., 2., 3.],\n",
      "        [4., 5., 6.],\n",
      "        [7., 8., 9.]])\n"
     ]
    }
   ],
   "source": [
    "t_1 = torch.arange(1,10,dtype=torch.float32).reshape(3,3)\n",
    "print(t_1)\n",
    "t_1 = t_1.refine_names(...,'a','b')\n",
    "t_1 = t_1.align_as(t_1)"
   ]
  },
  {
   "cell_type": "code",
   "execution_count": 46,
   "metadata": {},
   "outputs": [
    {
     "name": "stdout",
     "output_type": "stream",
     "text": [
      "tensor([12., 15., 18.], names=('b',))\n"
     ]
    }
   ],
   "source": [
    "sum_t = t_1.sum('a')\n",
    "print(sum_t)"
   ]
  },
  {
   "cell_type": "code",
   "execution_count": null,
   "metadata": {},
   "outputs": [],
   "source": []
  }
 ],
 "metadata": {
  "kernelspec": {
   "display_name": "Python 3",
   "language": "python",
   "name": "python3"
  },
  "language_info": {
   "codemirror_mode": {
    "name": "ipython",
    "version": 3
   },
   "file_extension": ".py",
   "mimetype": "text/x-python",
   "name": "python",
   "nbconvert_exporter": "python",
   "pygments_lexer": "ipython3",
   "version": "3.10.0"
  },
  "orig_nbformat": 4
 },
 "nbformat": 4,
 "nbformat_minor": 2
}
