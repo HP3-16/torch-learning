{
 "cells": [
  {
   "cell_type": "code",
   "execution_count": 2,
   "metadata": {},
   "outputs": [],
   "source": [
    "import numpy as np\n",
    "import torch\n",
    "import cv2"
   ]
  },
  {
   "cell_type": "code",
   "execution_count": 4,
   "metadata": {},
   "outputs": [],
   "source": [
    "class Custom_DS_img:\n",
    "    def __init__(self, path, targets, augmentations=None):\n",
    "        self.path = path\n",
    "        self.targets = targets\n",
    "        self.augmentations = augmentations\n",
    "    \n",
    "    def __len__(self):\n",
    "        return len(self.path)\n",
    "    \n",
    "    def __getitem__(self,idx):\n",
    "        targets = self.targets\n",
    "        #imread reads in BGR, we need RBG\n",
    "        image = cv2.imread(self.path[idx])\n",
    "        image = cv2.cvtColor(image,cv2.COLOR_BGR2RGB)\n",
    "        if self.augmentations is not None:\n",
    "            augmented = self.augmentations(image=image)\n",
    "            image = augmented[\"image\"]\n",
    "\n",
    "        #pytorch expects images in channel first format but we have (l ,w, channel)\n",
    "        image = np.transpose(image,(2,0,1)).astype(np.float32)\n",
    "\n",
    "        return {\n",
    "            \"image\" : torch.tensor(image),\n",
    "            \"target\" : torch.tensor(targets)\n",
    "        }\n"
   ]
  },
  {
   "cell_type": "code",
   "execution_count": null,
   "metadata": {},
   "outputs": [],
   "source": []
  }
 ],
 "metadata": {
  "kernelspec": {
   "display_name": "tf_exec_2.10",
   "language": "python",
   "name": "python3"
  },
  "language_info": {
   "codemirror_mode": {
    "name": "ipython",
    "version": 3
   },
   "file_extension": ".py",
   "mimetype": "text/x-python",
   "name": "python",
   "nbconvert_exporter": "python",
   "pygments_lexer": "ipython3",
   "version": "3.10.13"
  }
 },
 "nbformat": 4,
 "nbformat_minor": 2
}
